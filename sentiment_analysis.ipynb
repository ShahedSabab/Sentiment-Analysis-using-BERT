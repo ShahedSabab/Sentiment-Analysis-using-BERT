{
  "nbformat": 4,
  "nbformat_minor": 0,
  "metadata": {
    "colab": {
      "name": "sentiment analysis.ipynb",
      "provenance": [],
      "toc_visible": true,
      "authorship_tag": "ABX9TyOxon3Afn4XxS+WDyaanQcB",
      "include_colab_link": true
    },
    "kernelspec": {
      "name": "python3",
      "display_name": "Python 3"
    },
    "accelerator": "GPU",
    "widgets": {
      "application/vnd.jupyter.widget-state+json": {
        "d99dd4d51f16421ea9946299a25b7ff4": {
          "model_module": "@jupyter-widgets/controls",
          "model_name": "HBoxModel",
          "state": {
            "_view_name": "HBoxView",
            "_dom_classes": [],
            "_model_name": "HBoxModel",
            "_view_module": "@jupyter-widgets/controls",
            "_model_module_version": "1.5.0",
            "_view_count": null,
            "_view_module_version": "1.5.0",
            "box_style": "",
            "layout": "IPY_MODEL_171fd479a7a649bbb14999164c7002bc",
            "_model_module": "@jupyter-widgets/controls",
            "children": [
              "IPY_MODEL_3cf9448d602744d2bffc5619cc2325c8",
              "IPY_MODEL_ef2c0ab2b3a74f7eb653d20bf8b2ada2"
            ]
          }
        },
        "171fd479a7a649bbb14999164c7002bc": {
          "model_module": "@jupyter-widgets/base",
          "model_name": "LayoutModel",
          "state": {
            "_view_name": "LayoutView",
            "grid_template_rows": null,
            "right": null,
            "justify_content": null,
            "_view_module": "@jupyter-widgets/base",
            "overflow": null,
            "_model_module_version": "1.2.0",
            "_view_count": null,
            "flex_flow": null,
            "width": null,
            "min_width": null,
            "border": null,
            "align_items": null,
            "bottom": null,
            "_model_module": "@jupyter-widgets/base",
            "top": null,
            "grid_column": null,
            "overflow_y": null,
            "overflow_x": null,
            "grid_auto_flow": null,
            "grid_area": null,
            "grid_template_columns": null,
            "flex": null,
            "_model_name": "LayoutModel",
            "justify_items": null,
            "grid_row": null,
            "max_height": null,
            "align_content": null,
            "visibility": null,
            "align_self": null,
            "height": null,
            "min_height": null,
            "padding": null,
            "grid_auto_rows": null,
            "grid_gap": null,
            "max_width": null,
            "order": null,
            "_view_module_version": "1.2.0",
            "grid_template_areas": null,
            "object_position": null,
            "object_fit": null,
            "grid_auto_columns": null,
            "margin": null,
            "display": null,
            "left": null
          }
        },
        "3cf9448d602744d2bffc5619cc2325c8": {
          "model_module": "@jupyter-widgets/controls",
          "model_name": "IntProgressModel",
          "state": {
            "_view_name": "ProgressView",
            "style": "IPY_MODEL_caf92dc5fc534503af6de056e49656cc",
            "_dom_classes": [],
            "description": "Downloading: 100%",
            "_model_name": "IntProgressModel",
            "bar_style": "success",
            "max": 213450,
            "_view_module": "@jupyter-widgets/controls",
            "_model_module_version": "1.5.0",
            "value": 213450,
            "_view_count": null,
            "_view_module_version": "1.5.0",
            "orientation": "horizontal",
            "min": 0,
            "description_tooltip": null,
            "_model_module": "@jupyter-widgets/controls",
            "layout": "IPY_MODEL_3ca3319057cd4c27a058ea080f93ade0"
          }
        },
        "ef2c0ab2b3a74f7eb653d20bf8b2ada2": {
          "model_module": "@jupyter-widgets/controls",
          "model_name": "HTMLModel",
          "state": {
            "_view_name": "HTMLView",
            "style": "IPY_MODEL_31ef2ebba6884bfd9b6eeca29eb33982",
            "_dom_classes": [],
            "description": "",
            "_model_name": "HTMLModel",
            "placeholder": "​",
            "_view_module": "@jupyter-widgets/controls",
            "_model_module_version": "1.5.0",
            "value": " 213k/213k [00:00&lt;00:00, 735kB/s]",
            "_view_count": null,
            "_view_module_version": "1.5.0",
            "description_tooltip": null,
            "_model_module": "@jupyter-widgets/controls",
            "layout": "IPY_MODEL_706aee9a60a54e79baa6daeb11fe840c"
          }
        },
        "caf92dc5fc534503af6de056e49656cc": {
          "model_module": "@jupyter-widgets/controls",
          "model_name": "ProgressStyleModel",
          "state": {
            "_view_name": "StyleView",
            "_model_name": "ProgressStyleModel",
            "description_width": "initial",
            "_view_module": "@jupyter-widgets/base",
            "_model_module_version": "1.5.0",
            "_view_count": null,
            "_view_module_version": "1.2.0",
            "bar_color": null,
            "_model_module": "@jupyter-widgets/controls"
          }
        },
        "3ca3319057cd4c27a058ea080f93ade0": {
          "model_module": "@jupyter-widgets/base",
          "model_name": "LayoutModel",
          "state": {
            "_view_name": "LayoutView",
            "grid_template_rows": null,
            "right": null,
            "justify_content": null,
            "_view_module": "@jupyter-widgets/base",
            "overflow": null,
            "_model_module_version": "1.2.0",
            "_view_count": null,
            "flex_flow": null,
            "width": null,
            "min_width": null,
            "border": null,
            "align_items": null,
            "bottom": null,
            "_model_module": "@jupyter-widgets/base",
            "top": null,
            "grid_column": null,
            "overflow_y": null,
            "overflow_x": null,
            "grid_auto_flow": null,
            "grid_area": null,
            "grid_template_columns": null,
            "flex": null,
            "_model_name": "LayoutModel",
            "justify_items": null,
            "grid_row": null,
            "max_height": null,
            "align_content": null,
            "visibility": null,
            "align_self": null,
            "height": null,
            "min_height": null,
            "padding": null,
            "grid_auto_rows": null,
            "grid_gap": null,
            "max_width": null,
            "order": null,
            "_view_module_version": "1.2.0",
            "grid_template_areas": null,
            "object_position": null,
            "object_fit": null,
            "grid_auto_columns": null,
            "margin": null,
            "display": null,
            "left": null
          }
        },
        "31ef2ebba6884bfd9b6eeca29eb33982": {
          "model_module": "@jupyter-widgets/controls",
          "model_name": "DescriptionStyleModel",
          "state": {
            "_view_name": "StyleView",
            "_model_name": "DescriptionStyleModel",
            "description_width": "",
            "_view_module": "@jupyter-widgets/base",
            "_model_module_version": "1.5.0",
            "_view_count": null,
            "_view_module_version": "1.2.0",
            "_model_module": "@jupyter-widgets/controls"
          }
        },
        "706aee9a60a54e79baa6daeb11fe840c": {
          "model_module": "@jupyter-widgets/base",
          "model_name": "LayoutModel",
          "state": {
            "_view_name": "LayoutView",
            "grid_template_rows": null,
            "right": null,
            "justify_content": null,
            "_view_module": "@jupyter-widgets/base",
            "overflow": null,
            "_model_module_version": "1.2.0",
            "_view_count": null,
            "flex_flow": null,
            "width": null,
            "min_width": null,
            "border": null,
            "align_items": null,
            "bottom": null,
            "_model_module": "@jupyter-widgets/base",
            "top": null,
            "grid_column": null,
            "overflow_y": null,
            "overflow_x": null,
            "grid_auto_flow": null,
            "grid_area": null,
            "grid_template_columns": null,
            "flex": null,
            "_model_name": "LayoutModel",
            "justify_items": null,
            "grid_row": null,
            "max_height": null,
            "align_content": null,
            "visibility": null,
            "align_self": null,
            "height": null,
            "min_height": null,
            "padding": null,
            "grid_auto_rows": null,
            "grid_gap": null,
            "max_width": null,
            "order": null,
            "_view_module_version": "1.2.0",
            "grid_template_areas": null,
            "object_position": null,
            "object_fit": null,
            "grid_auto_columns": null,
            "margin": null,
            "display": null,
            "left": null
          }
        },
        "908e9a7c87de44a0a365c0a26623a5a9": {
          "model_module": "@jupyter-widgets/controls",
          "model_name": "HBoxModel",
          "state": {
            "_view_name": "HBoxView",
            "_dom_classes": [],
            "_model_name": "HBoxModel",
            "_view_module": "@jupyter-widgets/controls",
            "_model_module_version": "1.5.0",
            "_view_count": null,
            "_view_module_version": "1.5.0",
            "box_style": "",
            "layout": "IPY_MODEL_aebcb1c5ec274ce6b415651cad932089",
            "_model_module": "@jupyter-widgets/controls",
            "children": [
              "IPY_MODEL_51c832cc25b74380887e67d156339e5e",
              "IPY_MODEL_966e6d9a900b46cf822d00c092981249"
            ]
          }
        },
        "aebcb1c5ec274ce6b415651cad932089": {
          "model_module": "@jupyter-widgets/base",
          "model_name": "LayoutModel",
          "state": {
            "_view_name": "LayoutView",
            "grid_template_rows": null,
            "right": null,
            "justify_content": null,
            "_view_module": "@jupyter-widgets/base",
            "overflow": null,
            "_model_module_version": "1.2.0",
            "_view_count": null,
            "flex_flow": null,
            "width": null,
            "min_width": null,
            "border": null,
            "align_items": null,
            "bottom": null,
            "_model_module": "@jupyter-widgets/base",
            "top": null,
            "grid_column": null,
            "overflow_y": null,
            "overflow_x": null,
            "grid_auto_flow": null,
            "grid_area": null,
            "grid_template_columns": null,
            "flex": null,
            "_model_name": "LayoutModel",
            "justify_items": null,
            "grid_row": null,
            "max_height": null,
            "align_content": null,
            "visibility": null,
            "align_self": null,
            "height": null,
            "min_height": null,
            "padding": null,
            "grid_auto_rows": null,
            "grid_gap": null,
            "max_width": null,
            "order": null,
            "_view_module_version": "1.2.0",
            "grid_template_areas": null,
            "object_position": null,
            "object_fit": null,
            "grid_auto_columns": null,
            "margin": null,
            "display": null,
            "left": null
          }
        },
        "51c832cc25b74380887e67d156339e5e": {
          "model_module": "@jupyter-widgets/controls",
          "model_name": "IntProgressModel",
          "state": {
            "_view_name": "ProgressView",
            "style": "IPY_MODEL_ed5e1cf7d98747e496a00ea3daf4052d",
            "_dom_classes": [],
            "description": "Downloading: 100%",
            "_model_name": "IntProgressModel",
            "bar_style": "success",
            "max": 433,
            "_view_module": "@jupyter-widgets/controls",
            "_model_module_version": "1.5.0",
            "value": 433,
            "_view_count": null,
            "_view_module_version": "1.5.0",
            "orientation": "horizontal",
            "min": 0,
            "description_tooltip": null,
            "_model_module": "@jupyter-widgets/controls",
            "layout": "IPY_MODEL_f050bcdacfad47828379fb1eda86e58e"
          }
        },
        "966e6d9a900b46cf822d00c092981249": {
          "model_module": "@jupyter-widgets/controls",
          "model_name": "HTMLModel",
          "state": {
            "_view_name": "HTMLView",
            "style": "IPY_MODEL_7c42733ea21d45d7bc174a0ca8128055",
            "_dom_classes": [],
            "description": "",
            "_model_name": "HTMLModel",
            "placeholder": "​",
            "_view_module": "@jupyter-widgets/controls",
            "_model_module_version": "1.5.0",
            "value": " 433/433 [00:00&lt;00:00, 479B/s]",
            "_view_count": null,
            "_view_module_version": "1.5.0",
            "description_tooltip": null,
            "_model_module": "@jupyter-widgets/controls",
            "layout": "IPY_MODEL_ccdfa59fc4504ca1b21ee70d62adae8e"
          }
        },
        "ed5e1cf7d98747e496a00ea3daf4052d": {
          "model_module": "@jupyter-widgets/controls",
          "model_name": "ProgressStyleModel",
          "state": {
            "_view_name": "StyleView",
            "_model_name": "ProgressStyleModel",
            "description_width": "initial",
            "_view_module": "@jupyter-widgets/base",
            "_model_module_version": "1.5.0",
            "_view_count": null,
            "_view_module_version": "1.2.0",
            "bar_color": null,
            "_model_module": "@jupyter-widgets/controls"
          }
        },
        "f050bcdacfad47828379fb1eda86e58e": {
          "model_module": "@jupyter-widgets/base",
          "model_name": "LayoutModel",
          "state": {
            "_view_name": "LayoutView",
            "grid_template_rows": null,
            "right": null,
            "justify_content": null,
            "_view_module": "@jupyter-widgets/base",
            "overflow": null,
            "_model_module_version": "1.2.0",
            "_view_count": null,
            "flex_flow": null,
            "width": null,
            "min_width": null,
            "border": null,
            "align_items": null,
            "bottom": null,
            "_model_module": "@jupyter-widgets/base",
            "top": null,
            "grid_column": null,
            "overflow_y": null,
            "overflow_x": null,
            "grid_auto_flow": null,
            "grid_area": null,
            "grid_template_columns": null,
            "flex": null,
            "_model_name": "LayoutModel",
            "justify_items": null,
            "grid_row": null,
            "max_height": null,
            "align_content": null,
            "visibility": null,
            "align_self": null,
            "height": null,
            "min_height": null,
            "padding": null,
            "grid_auto_rows": null,
            "grid_gap": null,
            "max_width": null,
            "order": null,
            "_view_module_version": "1.2.0",
            "grid_template_areas": null,
            "object_position": null,
            "object_fit": null,
            "grid_auto_columns": null,
            "margin": null,
            "display": null,
            "left": null
          }
        },
        "7c42733ea21d45d7bc174a0ca8128055": {
          "model_module": "@jupyter-widgets/controls",
          "model_name": "DescriptionStyleModel",
          "state": {
            "_view_name": "StyleView",
            "_model_name": "DescriptionStyleModel",
            "description_width": "",
            "_view_module": "@jupyter-widgets/base",
            "_model_module_version": "1.5.0",
            "_view_count": null,
            "_view_module_version": "1.2.0",
            "_model_module": "@jupyter-widgets/controls"
          }
        },
        "ccdfa59fc4504ca1b21ee70d62adae8e": {
          "model_module": "@jupyter-widgets/base",
          "model_name": "LayoutModel",
          "state": {
            "_view_name": "LayoutView",
            "grid_template_rows": null,
            "right": null,
            "justify_content": null,
            "_view_module": "@jupyter-widgets/base",
            "overflow": null,
            "_model_module_version": "1.2.0",
            "_view_count": null,
            "flex_flow": null,
            "width": null,
            "min_width": null,
            "border": null,
            "align_items": null,
            "bottom": null,
            "_model_module": "@jupyter-widgets/base",
            "top": null,
            "grid_column": null,
            "overflow_y": null,
            "overflow_x": null,
            "grid_auto_flow": null,
            "grid_area": null,
            "grid_template_columns": null,
            "flex": null,
            "_model_name": "LayoutModel",
            "justify_items": null,
            "grid_row": null,
            "max_height": null,
            "align_content": null,
            "visibility": null,
            "align_self": null,
            "height": null,
            "min_height": null,
            "padding": null,
            "grid_auto_rows": null,
            "grid_gap": null,
            "max_width": null,
            "order": null,
            "_view_module_version": "1.2.0",
            "grid_template_areas": null,
            "object_position": null,
            "object_fit": null,
            "grid_auto_columns": null,
            "margin": null,
            "display": null,
            "left": null
          }
        },
        "4454e28f02ad4f11aabc5a66951860c4": {
          "model_module": "@jupyter-widgets/controls",
          "model_name": "HBoxModel",
          "state": {
            "_view_name": "HBoxView",
            "_dom_classes": [],
            "_model_name": "HBoxModel",
            "_view_module": "@jupyter-widgets/controls",
            "_model_module_version": "1.5.0",
            "_view_count": null,
            "_view_module_version": "1.5.0",
            "box_style": "",
            "layout": "IPY_MODEL_cc16e8684d424e50a457b8dbc0d10a86",
            "_model_module": "@jupyter-widgets/controls",
            "children": [
              "IPY_MODEL_58d0472019ad41709df8a84b5256c8e6",
              "IPY_MODEL_897de2bd6b6f42b4930ae5c6772498ba"
            ]
          }
        },
        "cc16e8684d424e50a457b8dbc0d10a86": {
          "model_module": "@jupyter-widgets/base",
          "model_name": "LayoutModel",
          "state": {
            "_view_name": "LayoutView",
            "grid_template_rows": null,
            "right": null,
            "justify_content": null,
            "_view_module": "@jupyter-widgets/base",
            "overflow": null,
            "_model_module_version": "1.2.0",
            "_view_count": null,
            "flex_flow": null,
            "width": null,
            "min_width": null,
            "border": null,
            "align_items": null,
            "bottom": null,
            "_model_module": "@jupyter-widgets/base",
            "top": null,
            "grid_column": null,
            "overflow_y": null,
            "overflow_x": null,
            "grid_auto_flow": null,
            "grid_area": null,
            "grid_template_columns": null,
            "flex": null,
            "_model_name": "LayoutModel",
            "justify_items": null,
            "grid_row": null,
            "max_height": null,
            "align_content": null,
            "visibility": null,
            "align_self": null,
            "height": null,
            "min_height": null,
            "padding": null,
            "grid_auto_rows": null,
            "grid_gap": null,
            "max_width": null,
            "order": null,
            "_view_module_version": "1.2.0",
            "grid_template_areas": null,
            "object_position": null,
            "object_fit": null,
            "grid_auto_columns": null,
            "margin": null,
            "display": null,
            "left": null
          }
        },
        "58d0472019ad41709df8a84b5256c8e6": {
          "model_module": "@jupyter-widgets/controls",
          "model_name": "IntProgressModel",
          "state": {
            "_view_name": "ProgressView",
            "style": "IPY_MODEL_d49dc2766a8c4b408e931c9750dc5e99",
            "_dom_classes": [],
            "description": "Downloading: 100%",
            "_model_name": "IntProgressModel",
            "bar_style": "success",
            "max": 435779157,
            "_view_module": "@jupyter-widgets/controls",
            "_model_module_version": "1.5.0",
            "value": 435779157,
            "_view_count": null,
            "_view_module_version": "1.5.0",
            "orientation": "horizontal",
            "min": 0,
            "description_tooltip": null,
            "_model_module": "@jupyter-widgets/controls",
            "layout": "IPY_MODEL_082a8e5949dd4e0782055c9774ab39ba"
          }
        },
        "897de2bd6b6f42b4930ae5c6772498ba": {
          "model_module": "@jupyter-widgets/controls",
          "model_name": "HTMLModel",
          "state": {
            "_view_name": "HTMLView",
            "style": "IPY_MODEL_175cc1cb8a914bdebf704bafc0eedc53",
            "_dom_classes": [],
            "description": "",
            "_model_name": "HTMLModel",
            "placeholder": "​",
            "_view_module": "@jupyter-widgets/controls",
            "_model_module_version": "1.5.0",
            "value": " 436M/436M [00:22&lt;00:00, 19.6MB/s]",
            "_view_count": null,
            "_view_module_version": "1.5.0",
            "description_tooltip": null,
            "_model_module": "@jupyter-widgets/controls",
            "layout": "IPY_MODEL_75c574fdecff41b29402bed3aec8b6a1"
          }
        },
        "d49dc2766a8c4b408e931c9750dc5e99": {
          "model_module": "@jupyter-widgets/controls",
          "model_name": "ProgressStyleModel",
          "state": {
            "_view_name": "StyleView",
            "_model_name": "ProgressStyleModel",
            "description_width": "initial",
            "_view_module": "@jupyter-widgets/base",
            "_model_module_version": "1.5.0",
            "_view_count": null,
            "_view_module_version": "1.2.0",
            "bar_color": null,
            "_model_module": "@jupyter-widgets/controls"
          }
        },
        "082a8e5949dd4e0782055c9774ab39ba": {
          "model_module": "@jupyter-widgets/base",
          "model_name": "LayoutModel",
          "state": {
            "_view_name": "LayoutView",
            "grid_template_rows": null,
            "right": null,
            "justify_content": null,
            "_view_module": "@jupyter-widgets/base",
            "overflow": null,
            "_model_module_version": "1.2.0",
            "_view_count": null,
            "flex_flow": null,
            "width": null,
            "min_width": null,
            "border": null,
            "align_items": null,
            "bottom": null,
            "_model_module": "@jupyter-widgets/base",
            "top": null,
            "grid_column": null,
            "overflow_y": null,
            "overflow_x": null,
            "grid_auto_flow": null,
            "grid_area": null,
            "grid_template_columns": null,
            "flex": null,
            "_model_name": "LayoutModel",
            "justify_items": null,
            "grid_row": null,
            "max_height": null,
            "align_content": null,
            "visibility": null,
            "align_self": null,
            "height": null,
            "min_height": null,
            "padding": null,
            "grid_auto_rows": null,
            "grid_gap": null,
            "max_width": null,
            "order": null,
            "_view_module_version": "1.2.0",
            "grid_template_areas": null,
            "object_position": null,
            "object_fit": null,
            "grid_auto_columns": null,
            "margin": null,
            "display": null,
            "left": null
          }
        },
        "175cc1cb8a914bdebf704bafc0eedc53": {
          "model_module": "@jupyter-widgets/controls",
          "model_name": "DescriptionStyleModel",
          "state": {
            "_view_name": "StyleView",
            "_model_name": "DescriptionStyleModel",
            "description_width": "",
            "_view_module": "@jupyter-widgets/base",
            "_model_module_version": "1.5.0",
            "_view_count": null,
            "_view_module_version": "1.2.0",
            "_model_module": "@jupyter-widgets/controls"
          }
        },
        "75c574fdecff41b29402bed3aec8b6a1": {
          "model_module": "@jupyter-widgets/base",
          "model_name": "LayoutModel",
          "state": {
            "_view_name": "LayoutView",
            "grid_template_rows": null,
            "right": null,
            "justify_content": null,
            "_view_module": "@jupyter-widgets/base",
            "overflow": null,
            "_model_module_version": "1.2.0",
            "_view_count": null,
            "flex_flow": null,
            "width": null,
            "min_width": null,
            "border": null,
            "align_items": null,
            "bottom": null,
            "_model_module": "@jupyter-widgets/base",
            "top": null,
            "grid_column": null,
            "overflow_y": null,
            "overflow_x": null,
            "grid_auto_flow": null,
            "grid_area": null,
            "grid_template_columns": null,
            "flex": null,
            "_model_name": "LayoutModel",
            "justify_items": null,
            "grid_row": null,
            "max_height": null,
            "align_content": null,
            "visibility": null,
            "align_self": null,
            "height": null,
            "min_height": null,
            "padding": null,
            "grid_auto_rows": null,
            "grid_gap": null,
            "max_width": null,
            "order": null,
            "_view_module_version": "1.2.0",
            "grid_template_areas": null,
            "object_position": null,
            "object_fit": null,
            "grid_auto_columns": null,
            "margin": null,
            "display": null,
            "left": null
          }
        }
      }
    }
  },
  "cells": [
    {
      "cell_type": "markdown",
      "metadata": {
        "id": "view-in-github",
        "colab_type": "text"
      },
      "source": [
        "<a href=\"https://colab.research.google.com/github/ShahedSabab/Sentiment-Analysis-using-BERT/blob/master/sentiment_analysis.ipynb\" target=\"_parent\"><img src=\"https://colab.research.google.com/assets/colab-badge.svg\" alt=\"Open In Colab\"/></a>"
      ]
    },
    {
      "cell_type": "code",
      "metadata": {
        "id": "7dmNrXS1NDcV",
        "colab_type": "code",
        "outputId": "97bdee98-b753-4c5c-999a-c192b23e75ec",
        "colab": {
          "base_uri": "https://localhost:8080/",
          "height": 663
        }
      },
      "source": [
        "!pip install transformers"
      ],
      "execution_count": 1,
      "outputs": [
        {
          "output_type": "stream",
          "text": [
            "Collecting transformers\n",
            "\u001b[?25l  Downloading https://files.pythonhosted.org/packages/a3/78/92cedda05552398352ed9784908b834ee32a0bd071a9b32de287327370b7/transformers-2.8.0-py3-none-any.whl (563kB)\n",
            "\r\u001b[K     |▋                               | 10kB 27.2MB/s eta 0:00:01\r\u001b[K     |█▏                              | 20kB 6.2MB/s eta 0:00:01\r\u001b[K     |█▊                              | 30kB 7.4MB/s eta 0:00:01\r\u001b[K     |██▎                             | 40kB 8.3MB/s eta 0:00:01\r\u001b[K     |███                             | 51kB 6.8MB/s eta 0:00:01\r\u001b[K     |███▌                            | 61kB 7.4MB/s eta 0:00:01\r\u001b[K     |████                            | 71kB 8.0MB/s eta 0:00:01\r\u001b[K     |████▋                           | 81kB 8.5MB/s eta 0:00:01\r\u001b[K     |█████▎                          | 92kB 8.0MB/s eta 0:00:01\r\u001b[K     |█████▉                          | 102kB 8.3MB/s eta 0:00:01\r\u001b[K     |██████▍                         | 112kB 8.3MB/s eta 0:00:01\r\u001b[K     |███████                         | 122kB 8.3MB/s eta 0:00:01\r\u001b[K     |███████▋                        | 133kB 8.3MB/s eta 0:00:01\r\u001b[K     |████████▏                       | 143kB 8.3MB/s eta 0:00:01\r\u001b[K     |████████▊                       | 153kB 8.3MB/s eta 0:00:01\r\u001b[K     |█████████▎                      | 163kB 8.3MB/s eta 0:00:01\r\u001b[K     |█████████▉                      | 174kB 8.3MB/s eta 0:00:01\r\u001b[K     |██████████▌                     | 184kB 8.3MB/s eta 0:00:01\r\u001b[K     |███████████                     | 194kB 8.3MB/s eta 0:00:01\r\u001b[K     |███████████▋                    | 204kB 8.3MB/s eta 0:00:01\r\u001b[K     |████████████▏                   | 215kB 8.3MB/s eta 0:00:01\r\u001b[K     |████████████▉                   | 225kB 8.3MB/s eta 0:00:01\r\u001b[K     |█████████████▍                  | 235kB 8.3MB/s eta 0:00:01\r\u001b[K     |██████████████                  | 245kB 8.3MB/s eta 0:00:01\r\u001b[K     |██████████████▌                 | 256kB 8.3MB/s eta 0:00:01\r\u001b[K     |███████████████▏                | 266kB 8.3MB/s eta 0:00:01\r\u001b[K     |███████████████▊                | 276kB 8.3MB/s eta 0:00:01\r\u001b[K     |████████████████▎               | 286kB 8.3MB/s eta 0:00:01\r\u001b[K     |████████████████▉               | 296kB 8.3MB/s eta 0:00:01\r\u001b[K     |█████████████████▍              | 307kB 8.3MB/s eta 0:00:01\r\u001b[K     |██████████████████              | 317kB 8.3MB/s eta 0:00:01\r\u001b[K     |██████████████████▋             | 327kB 8.3MB/s eta 0:00:01\r\u001b[K     |███████████████████▏            | 337kB 8.3MB/s eta 0:00:01\r\u001b[K     |███████████████████▊            | 348kB 8.3MB/s eta 0:00:01\r\u001b[K     |████████████████████▍           | 358kB 8.3MB/s eta 0:00:01\r\u001b[K     |█████████████████████           | 368kB 8.3MB/s eta 0:00:01\r\u001b[K     |█████████████████████▌          | 378kB 8.3MB/s eta 0:00:01\r\u001b[K     |██████████████████████          | 389kB 8.3MB/s eta 0:00:01\r\u001b[K     |██████████████████████▊         | 399kB 8.3MB/s eta 0:00:01\r\u001b[K     |███████████████████████▎        | 409kB 8.3MB/s eta 0:00:01\r\u001b[K     |███████████████████████▉        | 419kB 8.3MB/s eta 0:00:01\r\u001b[K     |████████████████████████▍       | 430kB 8.3MB/s eta 0:00:01\r\u001b[K     |█████████████████████████       | 440kB 8.3MB/s eta 0:00:01\r\u001b[K     |█████████████████████████▋      | 450kB 8.3MB/s eta 0:00:01\r\u001b[K     |██████████████████████████▏     | 460kB 8.3MB/s eta 0:00:01\r\u001b[K     |██████████████████████████▊     | 471kB 8.3MB/s eta 0:00:01\r\u001b[K     |███████████████████████████▎    | 481kB 8.3MB/s eta 0:00:01\r\u001b[K     |████████████████████████████    | 491kB 8.3MB/s eta 0:00:01\r\u001b[K     |████████████████████████████▌   | 501kB 8.3MB/s eta 0:00:01\r\u001b[K     |█████████████████████████████   | 512kB 8.3MB/s eta 0:00:01\r\u001b[K     |█████████████████████████████▋  | 522kB 8.3MB/s eta 0:00:01\r\u001b[K     |██████████████████████████████▎ | 532kB 8.3MB/s eta 0:00:01\r\u001b[K     |██████████████████████████████▉ | 542kB 8.3MB/s eta 0:00:01\r\u001b[K     |███████████████████████████████▍| 552kB 8.3MB/s eta 0:00:01\r\u001b[K     |████████████████████████████████| 563kB 8.3MB/s eta 0:00:01\r\u001b[K     |████████████████████████████████| 573kB 8.3MB/s \n",
            "\u001b[?25hRequirement already satisfied: requests in /usr/local/lib/python3.6/dist-packages (from transformers) (2.23.0)\n",
            "Collecting sacremoses\n",
            "\u001b[?25l  Downloading https://files.pythonhosted.org/packages/99/50/93509f906a40bffd7d175f97fd75ea328ad9bd91f48f59c4bd084c94a25e/sacremoses-0.0.41.tar.gz (883kB)\n",
            "\u001b[K     |████████████████████████████████| 890kB 8.6MB/s \n",
            "\u001b[?25hRequirement already satisfied: filelock in /usr/local/lib/python3.6/dist-packages (from transformers) (3.0.12)\n",
            "Collecting tokenizers==0.5.2\n",
            "\u001b[?25l  Downloading https://files.pythonhosted.org/packages/d1/3f/73c881ea4723e43c1e9acf317cf407fab3a278daab3a69c98dcac511c04f/tokenizers-0.5.2-cp36-cp36m-manylinux1_x86_64.whl (3.7MB)\n",
            "\u001b[K     |████████████████████████████████| 3.7MB 45.4MB/s \n",
            "\u001b[?25hRequirement already satisfied: boto3 in /usr/local/lib/python3.6/dist-packages (from transformers) (1.12.47)\n",
            "Requirement already satisfied: numpy in /usr/local/lib/python3.6/dist-packages (from transformers) (1.18.3)\n",
            "Requirement already satisfied: regex!=2019.12.17 in /usr/local/lib/python3.6/dist-packages (from transformers) (2019.12.20)\n",
            "Requirement already satisfied: dataclasses; python_version < \"3.7\" in /usr/local/lib/python3.6/dist-packages (from transformers) (0.7)\n",
            "Requirement already satisfied: tqdm>=4.27 in /usr/local/lib/python3.6/dist-packages (from transformers) (4.38.0)\n",
            "Collecting sentencepiece\n",
            "\u001b[?25l  Downloading https://files.pythonhosted.org/packages/98/2c/8df20f3ac6c22ac224fff307ebc102818206c53fc454ecd37d8ac2060df5/sentencepiece-0.1.86-cp36-cp36m-manylinux1_x86_64.whl (1.0MB)\n",
            "\u001b[K     |████████████████████████████████| 1.0MB 53.4MB/s \n",
            "\u001b[?25hRequirement already satisfied: idna<3,>=2.5 in /usr/local/lib/python3.6/dist-packages (from requests->transformers) (2.9)\n",
            "Requirement already satisfied: chardet<4,>=3.0.2 in /usr/local/lib/python3.6/dist-packages (from requests->transformers) (3.0.4)\n",
            "Requirement already satisfied: certifi>=2017.4.17 in /usr/local/lib/python3.6/dist-packages (from requests->transformers) (2020.4.5.1)\n",
            "Requirement already satisfied: urllib3!=1.25.0,!=1.25.1,<1.26,>=1.21.1 in /usr/local/lib/python3.6/dist-packages (from requests->transformers) (1.24.3)\n",
            "Requirement already satisfied: six in /usr/local/lib/python3.6/dist-packages (from sacremoses->transformers) (1.12.0)\n",
            "Requirement already satisfied: click in /usr/local/lib/python3.6/dist-packages (from sacremoses->transformers) (7.1.2)\n",
            "Requirement already satisfied: joblib in /usr/local/lib/python3.6/dist-packages (from sacremoses->transformers) (0.14.1)\n",
            "Requirement already satisfied: s3transfer<0.4.0,>=0.3.0 in /usr/local/lib/python3.6/dist-packages (from boto3->transformers) (0.3.3)\n",
            "Requirement already satisfied: botocore<1.16.0,>=1.15.47 in /usr/local/lib/python3.6/dist-packages (from boto3->transformers) (1.15.47)\n",
            "Requirement already satisfied: jmespath<1.0.0,>=0.7.1 in /usr/local/lib/python3.6/dist-packages (from boto3->transformers) (0.9.5)\n",
            "Requirement already satisfied: docutils<0.16,>=0.10 in /usr/local/lib/python3.6/dist-packages (from botocore<1.16.0,>=1.15.47->boto3->transformers) (0.15.2)\n",
            "Requirement already satisfied: python-dateutil<3.0.0,>=2.1 in /usr/local/lib/python3.6/dist-packages (from botocore<1.16.0,>=1.15.47->boto3->transformers) (2.8.1)\n",
            "Building wheels for collected packages: sacremoses\n",
            "  Building wheel for sacremoses (setup.py) ... \u001b[?25l\u001b[?25hdone\n",
            "  Created wheel for sacremoses: filename=sacremoses-0.0.41-cp36-none-any.whl size=893334 sha256=71d9e2934683397fc536c2f30f96d21dff5dcf75666d33e710e7e75d10e120dd\n",
            "  Stored in directory: /root/.cache/pip/wheels/22/5a/d4/b020a81249de7dc63758a34222feaa668dbe8ebfe9170cc9b1\n",
            "Successfully built sacremoses\n",
            "Installing collected packages: sacremoses, tokenizers, sentencepiece, transformers\n",
            "Successfully installed sacremoses-0.0.41 sentencepiece-0.1.86 tokenizers-0.5.2 transformers-2.8.0\n"
          ],
          "name": "stdout"
        }
      ]
    },
    {
      "cell_type": "code",
      "metadata": {
        "id": "554u2zsMIsyc",
        "colab_type": "code",
        "outputId": "79391013-d2fe-4474-b220-f75ca3cebd34",
        "colab": {
          "base_uri": "https://localhost:8080/",
          "height": 34
        }
      },
      "source": [
        "import transformers \n",
        "from transformers import BertModel, BertTokenizer, AdamW, get_linear_schedule_with_warmup\n",
        "import torch\n",
        "import pandas as pd\n",
        "import seaborn as sns\n",
        "import matplotlib.pyplot as plt\n",
        "import numpy as np\n",
        "from pylab import rcParams\n",
        "from matplotlib import rc\n",
        "from sklearn.model_selection import train_test_split\n",
        "from sklearn.metrics import confusion_matrix, classification_report\n",
        "from tqdm import tqdm\n",
        "from torch import nn, optim \n",
        "from torch.utils import data\n",
        "from collections import defaultdict\n",
        "from textwrap import wrap\n",
        "%matplotlib inline\n",
        "sns.set(style='whitegrid', palette='muted', font_scale=1.2)\n",
        "rcParams['figure.figsize'] = 12, 8\n",
        "RANDOM_SEED = 99\n",
        "np.random.seed(RANDOM_SEED)\n",
        "torch.manual_seed(RANDOM_SEED)"
      ],
      "execution_count": 59,
      "outputs": [
        {
          "output_type": "execute_result",
          "data": {
            "text/plain": [
              "<torch._C.Generator at 0x7f63d7131ed0>"
            ]
          },
          "metadata": {
            "tags": []
          },
          "execution_count": 59
        }
      ]
    },
    {
      "cell_type": "markdown",
      "metadata": {
        "id": "HCidvPVlKkLg",
        "colab_type": "text"
      },
      "source": [
        "# Read and check data"
      ]
    },
    {
      "cell_type": "code",
      "metadata": {
        "id": "tI5dRQsvJtr1",
        "colab_type": "code",
        "outputId": "f51ad2b6-1fc0-4d2b-a21f-3f00a03160ac",
        "colab": {
          "base_uri": "https://localhost:8080/",
          "height": 408
        }
      },
      "source": [
        "df = pd.read_csv('app_reviews.csv')\n",
        "df.head()"
      ],
      "execution_count": 3,
      "outputs": [
        {
          "output_type": "execute_result",
          "data": {
            "text/html": [
              "<div>\n",
              "<style scoped>\n",
              "    .dataframe tbody tr th:only-of-type {\n",
              "        vertical-align: middle;\n",
              "    }\n",
              "\n",
              "    .dataframe tbody tr th {\n",
              "        vertical-align: top;\n",
              "    }\n",
              "\n",
              "    .dataframe thead th {\n",
              "        text-align: right;\n",
              "    }\n",
              "</style>\n",
              "<table border=\"1\" class=\"dataframe\">\n",
              "  <thead>\n",
              "    <tr style=\"text-align: right;\">\n",
              "      <th></th>\n",
              "      <th>userName</th>\n",
              "      <th>userImage</th>\n",
              "      <th>content</th>\n",
              "      <th>score</th>\n",
              "      <th>thumbsUpCount</th>\n",
              "      <th>reviewCreatedVersion</th>\n",
              "      <th>at</th>\n",
              "      <th>replyContent</th>\n",
              "      <th>repliedAt</th>\n",
              "      <th>sortOrder</th>\n",
              "      <th>appId</th>\n",
              "    </tr>\n",
              "  </thead>\n",
              "  <tbody>\n",
              "    <tr>\n",
              "      <th>0</th>\n",
              "      <td>Daxle Collier</td>\n",
              "      <td>https://lh3.googleusercontent.com/-rivlmdNVmoU...</td>\n",
              "      <td>This is a very pretty app with the illusion of...</td>\n",
              "      <td>1</td>\n",
              "      <td>223</td>\n",
              "      <td>3.57.0</td>\n",
              "      <td>2020-04-22 23:42:06</td>\n",
              "      <td>NaN</td>\n",
              "      <td>NaN</td>\n",
              "      <td>most_relevant</td>\n",
              "      <td>com.getsomeheadspace.android</td>\n",
              "    </tr>\n",
              "    <tr>\n",
              "      <th>1</th>\n",
              "      <td>Hussam Fateen</td>\n",
              "      <td>https://lh3.googleusercontent.com/a-/AOh14Ghn4...</td>\n",
              "      <td>There's no \"Waking Up\" segment in the app. The...</td>\n",
              "      <td>1</td>\n",
              "      <td>38</td>\n",
              "      <td>3.57.0</td>\n",
              "      <td>2020-04-09 12:31:33</td>\n",
              "      <td>NaN</td>\n",
              "      <td>NaN</td>\n",
              "      <td>most_relevant</td>\n",
              "      <td>com.getsomeheadspace.android</td>\n",
              "    </tr>\n",
              "    <tr>\n",
              "      <th>2</th>\n",
              "      <td>Bo Brooks</td>\n",
              "      <td>https://lh3.googleusercontent.com/a-/AOh14GhDn...</td>\n",
              "      <td>I am on a yearly subscription and since the la...</td>\n",
              "      <td>1</td>\n",
              "      <td>72</td>\n",
              "      <td>3.57.0</td>\n",
              "      <td>2020-04-07 01:09:34</td>\n",
              "      <td>NaN</td>\n",
              "      <td>NaN</td>\n",
              "      <td>most_relevant</td>\n",
              "      <td>com.getsomeheadspace.android</td>\n",
              "    </tr>\n",
              "    <tr>\n",
              "      <th>3</th>\n",
              "      <td>Staci Thomas</td>\n",
              "      <td>https://lh3.googleusercontent.com/-m4z-sbErDeg...</td>\n",
              "      <td>I loved this app for the three weeks that I ha...</td>\n",
              "      <td>1</td>\n",
              "      <td>41</td>\n",
              "      <td>3.57.0</td>\n",
              "      <td>2020-04-25 10:00:07</td>\n",
              "      <td>Sorry for the trouble logging in! Please send ...</td>\n",
              "      <td>2020-04-25 16:33:39</td>\n",
              "      <td>most_relevant</td>\n",
              "      <td>com.getsomeheadspace.android</td>\n",
              "    </tr>\n",
              "    <tr>\n",
              "      <th>4</th>\n",
              "      <td>Beezus Peterson-Presley</td>\n",
              "      <td>https://lh3.googleusercontent.com/a-/AOh14GjrL...</td>\n",
              "      <td>1st of all...the app gives you the option of c...</td>\n",
              "      <td>1</td>\n",
              "      <td>128</td>\n",
              "      <td>3.57.0</td>\n",
              "      <td>2020-04-14 20:29:05</td>\n",
              "      <td>NaN</td>\n",
              "      <td>NaN</td>\n",
              "      <td>most_relevant</td>\n",
              "      <td>com.getsomeheadspace.android</td>\n",
              "    </tr>\n",
              "  </tbody>\n",
              "</table>\n",
              "</div>"
            ],
            "text/plain": [
              "                  userName  ...                         appId\n",
              "0            Daxle Collier  ...  com.getsomeheadspace.android\n",
              "1            Hussam Fateen  ...  com.getsomeheadspace.android\n",
              "2                Bo Brooks  ...  com.getsomeheadspace.android\n",
              "3             Staci Thomas  ...  com.getsomeheadspace.android\n",
              "4  Beezus Peterson-Presley  ...  com.getsomeheadspace.android\n",
              "\n",
              "[5 rows x 11 columns]"
            ]
          },
          "metadata": {
            "tags": []
          },
          "execution_count": 3
        }
      ]
    },
    {
      "cell_type": "code",
      "metadata": {
        "id": "Rl7w2mtkKG2s",
        "colab_type": "code",
        "outputId": "26f252a0-e6aa-4a87-fdef-b1db9d4385e2",
        "colab": {
          "base_uri": "https://localhost:8080/",
          "height": 323
        }
      },
      "source": [
        "df.info()"
      ],
      "execution_count": 4,
      "outputs": [
        {
          "output_type": "stream",
          "text": [
            "<class 'pandas.core.frame.DataFrame'>\n",
            "RangeIndex: 11976 entries, 0 to 11975\n",
            "Data columns (total 11 columns):\n",
            " #   Column                Non-Null Count  Dtype \n",
            "---  ------                --------------  ----- \n",
            " 0   userName              11976 non-null  object\n",
            " 1   userImage             11976 non-null  object\n",
            " 2   content               11976 non-null  object\n",
            " 3   score                 11976 non-null  int64 \n",
            " 4   thumbsUpCount         11976 non-null  int64 \n",
            " 5   reviewCreatedVersion  10988 non-null  object\n",
            " 6   at                    11976 non-null  object\n",
            " 7   replyContent          3484 non-null   object\n",
            " 8   repliedAt             3484 non-null   object\n",
            " 9   sortOrder             11976 non-null  object\n",
            " 10  appId                 11976 non-null  object\n",
            "dtypes: int64(2), object(9)\n",
            "memory usage: 1.0+ MB\n"
          ],
          "name": "stdout"
        }
      ]
    },
    {
      "cell_type": "code",
      "metadata": {
        "id": "eygu-iOdKa86",
        "colab_type": "code",
        "outputId": "3bd334ae-f1be-4508-b95d-d2307658ec62",
        "colab": {
          "base_uri": "https://localhost:8080/",
          "height": 523
        }
      },
      "source": [
        "sns.countplot(df.score)\n",
        "plt.xlabel('review score')"
      ],
      "execution_count": 5,
      "outputs": [
        {
          "output_type": "execute_result",
          "data": {
            "text/plain": [
              "Text(0.5, 0, 'review score')"
            ]
          },
          "metadata": {
            "tags": []
          },
          "execution_count": 5
        },
        {
          "output_type": "display_data",
          "data": {
            "image/png": "[encoded data removed]",
            "text/plain": [
              "<Figure size 864x576 with 1 Axes>"
            ]
          },
          "metadata": {
            "tags": []
          }
        }
      ]
    },
    {
      "cell_type": "markdown",
      "metadata": {
        "id": "UpsqhHuVMvKe",
        "colab_type": "text"
      },
      "source": [
        "# Grop negative and positive sentiment"
      ]
    },
    {
      "cell_type": "code",
      "metadata": {
        "id": "HzhBVL1rK7J7",
        "colab_type": "code",
        "colab": {}
      },
      "source": [
        "def groupRating(rating):\n",
        "  grp_rating = -1\n",
        "  rating = int(rating)\n",
        "  if rating > 3:\n",
        "    grp_rating = 2\n",
        "  elif rating == 3:\n",
        "    grp_rating = 1\n",
        "  else:\n",
        "    grp_rating = 0\n",
        "  return grp_rating"
      ],
      "execution_count": 0,
      "outputs": []
    },
    {
      "cell_type": "code",
      "metadata": {
        "id": "lviAJybXMJmF",
        "colab_type": "code",
        "colab": {}
      },
      "source": [
        "df['sentiment'] = df.score.apply(groupRating)"
      ],
      "execution_count": 0,
      "outputs": []
    },
    {
      "cell_type": "code",
      "metadata": {
        "id": "Wufxen1yMW8h",
        "colab_type": "code",
        "outputId": "fd6dbf06-87f4-492b-fb3c-05145ddb8643",
        "colab": {
          "base_uri": "https://localhost:8080/",
          "height": 523
        }
      },
      "source": [
        "class_names = ['negative', 'neutral', 'positive']\n",
        "ax = sns.countplot(df.sentiment)\n",
        "plt.xlabel('sentiment')\n",
        "ax.set_xticklabels(class_names)"
      ],
      "execution_count": 8,
      "outputs": [
        {
          "output_type": "execute_result",
          "data": {
            "text/plain": [
              "[Text(0, 0, 'negative'), Text(0, 0, 'neutral'), Text(0, 0, 'positive')]"
            ]
          },
          "metadata": {
            "tags": []
          },
          "execution_count": 8
        },
        {
          "output_type": "display_data",
          "data": {
            "image/png": "[encoded data removed]",
            "text/plain": [
              "<Figure size 864x576 with 1 Axes>"
            ]
          },
          "metadata": {
            "tags": []
          }
        }
      ]
    },
    {
      "cell_type": "markdown",
      "metadata": {
        "id": "UCqLlhKmPDoq",
        "colab_type": "text"
      },
      "source": [
        "# Background for processing"
      ]
    },
    {
      "cell_type": "code",
      "metadata": {
        "id": "21vtgRjxMXlC",
        "colab_type": "code",
        "colab": {
          "base_uri": "https://localhost:8080/",
          "height": 66,
          "referenced_widgets": [
            "d99dd4d51f16421ea9946299a25b7ff4",
            "171fd479a7a649bbb14999164c7002bc",
            "3cf9448d602744d2bffc5619cc2325c8",
            "ef2c0ab2b3a74f7eb653d20bf8b2ada2",
            "caf92dc5fc534503af6de056e49656cc",
            "3ca3319057cd4c27a058ea080f93ade0",
            "31ef2ebba6884bfd9b6eeca29eb33982",
            "706aee9a60a54e79baa6daeb11fe840c"
          ]
        },
        "outputId": "6b427d61-c5de-4437-9652-9fa53e383497"
      },
      "source": [
        "#download pretrained tokenizer from bert\n",
        "tokenizer = transformers.BertTokenizer.from_pretrained('bert-base-cased')"
      ],
      "execution_count": 9,
      "outputs": [
        {
          "output_type": "display_data",
          "data": {
            "application/vnd.jupyter.widget-view+json": {
              "model_id": "d99dd4d51f16421ea9946299a25b7ff4",
              "version_minor": 0,
              "version_major": 2
            },
            "text/plain": [
              "HBox(children=(IntProgress(value=0, description='Downloading', max=213450, style=ProgressStyle(description_wid…"
            ]
          },
          "metadata": {
            "tags": []
          }
        },
        {
          "output_type": "stream",
          "text": [
            "\n"
          ],
          "name": "stdout"
        }
      ]
    },
    {
      "cell_type": "code",
      "metadata": {
        "id": "WYrpsE38PoPu",
        "colab_type": "code",
        "colab": {}
      },
      "source": [
        "sample_text = \"Just a test sentence. Test 2.\"\n",
        "tokens = tokenizer.tokenize(sample_text)\n",
        "token_ids = tokenizer.convert_tokens_to_ids(tokens)"
      ],
      "execution_count": 0,
      "outputs": []
    },
    {
      "cell_type": "code",
      "metadata": {
        "id": "rvTwj3omQgXl",
        "colab_type": "code",
        "colab": {
          "base_uri": "https://localhost:8080/",
          "height": 68
        },
        "outputId": "237342cb-a5f4-454c-ae44-e4d7ecc0b357"
      },
      "source": [
        "print(f'Sample Text:{sample_text}')\n",
        "print(f'Tokens     :{tokens}')\n",
        "print(f'Token IDs  :{token_ids}')"
      ],
      "execution_count": 11,
      "outputs": [
        {
          "output_type": "stream",
          "text": [
            "Sample Text:Just a test sentence. Test 2.\n",
            "Tokens     :['Just', 'a', 'test', 'sentence', '.', 'Test', '2', '.']\n",
            "Token IDs  :[2066, 170, 2774, 5650, 119, 5960, 123, 119]\n"
          ],
          "name": "stdout"
        }
      ]
    },
    {
      "cell_type": "code",
      "metadata": {
        "id": "zZ23fdPJQpNi",
        "colab_type": "code",
        "colab": {
          "base_uri": "https://localhost:8080/",
          "height": 119
        },
        "outputId": "0ec57cc8-ab76-477e-de7f-9ed400c01a9b"
      },
      "source": [
        "print(f'\\t   Special Tokens')\n",
        "print(f'-'*40)\n",
        "print(f'     Separator Token:{tokenizer.sep_token} id:{tokenizer.sep_token_id}')\n",
        "print(f'Classification Token:{tokenizer.cls_token} id:{tokenizer.cls_token_id}')\n",
        "print(f'       Padding Token:{tokenizer.pad_token} id:{tokenizer.pad_token_id}')\n",
        "print(f'       Unknown Token:{tokenizer.unk_token} id:{tokenizer.unk_token_id}')"
      ],
      "execution_count": 12,
      "outputs": [
        {
          "output_type": "stream",
          "text": [
            "\t   Special Tokens\n",
            "----------------------------------------\n",
            "     Separator Token:[SEP] id:102\n",
            "Classification Token:[CLS] id:101\n",
            "       Padding Token:[PAD] id:0\n",
            "       Unknown Token:[UNK] id:100\n"
          ],
          "name": "stdout"
        }
      ]
    },
    {
      "cell_type": "code",
      "metadata": {
        "id": "GDDlqK51Q_PW",
        "colab_type": "code",
        "colab": {
          "base_uri": "https://localhost:8080/",
          "height": 102
        },
        "outputId": "e070400c-c474-431a-a09a-d0d95cd8a376"
      },
      "source": [
        "encoding = tokenizer.encode_plus(\n",
        "    sample_text,\n",
        "    max_length = 32,\n",
        "    add_special_tokens=True,\n",
        "    pad_to_max_length = True,\n",
        "    return_attention_mask = True,\n",
        "    return_token_type_ids=False,\n",
        "    return_tensors='pt'\n",
        ")\n",
        "encoding"
      ],
      "execution_count": 13,
      "outputs": [
        {
          "output_type": "execute_result",
          "data": {
            "text/plain": [
              "{'attention_mask': tensor([[1, 1, 1, 1, 1, 1, 1, 1, 1, 1, 0, 0, 0, 0, 0, 0, 0, 0, 0, 0, 0, 0, 0, 0,\n",
              "          0, 0, 0, 0, 0, 0, 0, 0]]),\n",
              " 'input_ids': tensor([[ 101, 2066,  170, 2774, 5650,  119, 5960,  123,  119,  102,    0,    0,\n",
              "             0,    0,    0,    0,    0,    0,    0,    0,    0,    0,    0,    0,\n",
              "             0,    0,    0,    0,    0,    0,    0,    0]])}"
            ]
          },
          "metadata": {
            "tags": []
          },
          "execution_count": 13
        }
      ]
    },
    {
      "cell_type": "markdown",
      "metadata": {
        "id": "wxkfhwGnVE4Z",
        "colab_type": "text"
      },
      "source": [
        "# Data processing"
      ]
    },
    {
      "cell_type": "code",
      "metadata": {
        "id": "cCt6xvyEUfq_",
        "colab_type": "code",
        "colab": {}
      },
      "source": [
        "token_length=[]\n",
        "for content in df.content:\n",
        "  tokens = tokenizer.encode(content)\n",
        "  token_length.append(len(tokens))"
      ],
      "execution_count": 0,
      "outputs": []
    },
    {
      "cell_type": "code",
      "metadata": {
        "id": "9VCO_HloV1P5",
        "colab_type": "code",
        "colab": {
          "base_uri": "https://localhost:8080/",
          "height": 0
        },
        "outputId": "b653535e-9301-4e1d-e153-b0c9399d3d96"
      },
      "source": [
        "#check content's length distribution\n",
        "ax = sns.distplot(token_length)\n",
        "plt.xlim([0, 200]);\n",
        "plt.xlabel('length')"
      ],
      "execution_count": 15,
      "outputs": [
        {
          "output_type": "execute_result",
          "data": {
            "text/plain": [
              "Text(0.5, 0, 'length')"
            ]
          },
          "metadata": {
            "tags": []
          },
          "execution_count": 15
        },
        {
          "output_type": "display_data",
          "data": {
            "image/png": "[encoded data removed]",
            "text/plain": [
              "<Figure size 864x576 with 1 Axes>"
            ]
          },
          "metadata": {
            "tags": []
          }
        }
      ]
    },
    {
      "cell_type": "markdown",
      "metadata": {
        "id": "yebvv3TwWoB_",
        "colab_type": "text"
      },
      "source": [
        "# Create a Dataset"
      ]
    },
    {
      "cell_type": "code",
      "metadata": {
        "id": "RGzUk9RPV8P7",
        "colab_type": "code",
        "colab": {}
      },
      "source": [
        "class reviewDataset(data.Dataset):\n",
        "  def __init__(self, review, targets, tokenizer, max_len):\n",
        "    self.review = review\n",
        "    self.targets = targets\n",
        "    self.tokenizer = tokenizer\n",
        "    self.max_len = max_len\n",
        "\n",
        "  def __len__(self):\n",
        "    return len(self.review)\n",
        "\n",
        "  def __getitem__(self, item):\n",
        "    review = str(self.review[item])\n",
        "    encoding = tokenizer.encode_plus(\n",
        "      review,\n",
        "      max_length = self.max_len,\n",
        "      add_special_tokens=True,\n",
        "      pad_to_max_length = True,\n",
        "      return_attention_mask = True,\n",
        "      return_token_type_ids=False,\n",
        "      return_tensors='pt'\n",
        "    )\n",
        "    return {\n",
        "        'review_text': review,\n",
        "        'input_ids': encoding['input_ids'].flatten(),\n",
        "        'attention_mask': encoding['attention_mask'].flatten(),\n",
        "        'targets': torch.tensor(self.targets[item], dtype = torch.long)\n",
        "    }\n",
        "\n"
      ],
      "execution_count": 0,
      "outputs": []
    },
    {
      "cell_type": "markdown",
      "metadata": {
        "id": "2_yDFXC6JxNl",
        "colab_type": "text"
      },
      "source": [
        "# Initialization"
      ]
    },
    {
      "cell_type": "code",
      "metadata": {
        "id": "cXe5dSMAiJLD",
        "colab_type": "code",
        "colab": {}
      },
      "source": [
        "# max length is set by considering the length distribution\n",
        "MAX_LENGTH = 140\n",
        "BATCH_SIZE = 16\n",
        "EPOCHS = 40\n",
        "LEARNING_RATE = 2e-5"
      ],
      "execution_count": 0,
      "outputs": []
    },
    {
      "cell_type": "markdown",
      "metadata": {
        "id": "BfWPWJlcJtC9",
        "colab_type": "text"
      },
      "source": [
        "# Train-test-val split"
      ]
    },
    {
      "cell_type": "code",
      "metadata": {
        "id": "D5MXvJqWibrr",
        "colab_type": "code",
        "colab": {}
      },
      "source": [
        "df_train, df_test = train_test_split(df, test_size = 0.2, random_state=RANDOM_SEED)\n",
        "df_val, df_test = train_test_split(df_test, test_size = 0.5, random_state=RANDOM_SEED)"
      ],
      "execution_count": 0,
      "outputs": []
    },
    {
      "cell_type": "code",
      "metadata": {
        "id": "IGnwp09kjPDK",
        "colab_type": "code",
        "colab": {}
      },
      "source": [
        "def create_data_loader(df, tokenizer, max_len, batch_size):\n",
        "  ds = reviewDataset(\n",
        "      review = df.content.to_numpy(),\n",
        "      targets = df.sentiment.to_numpy(),\n",
        "      tokenizer = tokenizer,\n",
        "      max_len = max_len\n",
        "  )\n",
        "\n",
        "  return data.DataLoader(\n",
        "      ds,\n",
        "      batch_size = batch_size,\n",
        "      num_workers = 4\n",
        "  )"
      ],
      "execution_count": 0,
      "outputs": []
    },
    {
      "cell_type": "code",
      "metadata": {
        "id": "2LWfz7q9jk2u",
        "colab_type": "code",
        "colab": {}
      },
      "source": [
        "train_data_loader = create_data_loader(df_train, tokenizer, MAX_LENGTH, BATCH_SIZE)\n",
        "test_data_loader = create_data_loader(df_test, tokenizer, MAX_LENGTH, BATCH_SIZE)\n",
        "val_data_loader = create_data_loader(df_val, tokenizer, MAX_LENGTH, BATCH_SIZE)"
      ],
      "execution_count": 0,
      "outputs": []
    },
    {
      "cell_type": "code",
      "metadata": {
        "id": "ZmMWfYhlkh-f",
        "colab_type": "code",
        "colab": {
          "base_uri": "https://localhost:8080/",
          "height": 0
        },
        "outputId": "3b54ea06-6e61-422b-9cfb-d6b670f5cad8"
      },
      "source": [
        "data = next(iter(train_data_loader))\n",
        "print(data['input_ids'].shape)\n",
        "print(data['attention_mask'].shape)\n",
        "print(data['targets'].shape)"
      ],
      "execution_count": 21,
      "outputs": [
        {
          "output_type": "stream",
          "text": [
            "torch.Size([16, 140])\n",
            "torch.Size([16, 140])\n",
            "torch.Size([16])\n"
          ],
          "name": "stdout"
        }
      ]
    },
    {
      "cell_type": "markdown",
      "metadata": {
        "id": "3lBSg5ORel6_",
        "colab_type": "text"
      },
      "source": [
        "# Define Bert Model"
      ]
    },
    {
      "cell_type": "code",
      "metadata": {
        "id": "QYxfU002krX9",
        "colab_type": "code",
        "colab": {
          "base_uri": "https://localhost:8080/",
          "height": 0,
          "referenced_widgets": [
            "908e9a7c87de44a0a365c0a26623a5a9",
            "aebcb1c5ec274ce6b415651cad932089",
            "51c832cc25b74380887e67d156339e5e",
            "966e6d9a900b46cf822d00c092981249",
            "ed5e1cf7d98747e496a00ea3daf4052d",
            "f050bcdacfad47828379fb1eda86e58e",
            "7c42733ea21d45d7bc174a0ca8128055",
            "ccdfa59fc4504ca1b21ee70d62adae8e",
            "4454e28f02ad4f11aabc5a66951860c4",
            "cc16e8684d424e50a457b8dbc0d10a86",
            "58d0472019ad41709df8a84b5256c8e6",
            "897de2bd6b6f42b4930ae5c6772498ba",
            "d49dc2766a8c4b408e931c9750dc5e99",
            "082a8e5949dd4e0782055c9774ab39ba",
            "175cc1cb8a914bdebf704bafc0eedc53",
            "75c574fdecff41b29402bed3aec8b6a1"
          ]
        },
        "outputId": "833b4407-1dda-4762-d4f6-e682a53bb72c"
      },
      "source": [
        "bert_model = BertModel.from_pretrained(\"bert-base-cased\")"
      ],
      "execution_count": 22,
      "outputs": [
        {
          "output_type": "display_data",
          "data": {
            "application/vnd.jupyter.widget-view+json": {
              "model_id": "908e9a7c87de44a0a365c0a26623a5a9",
              "version_minor": 0,
              "version_major": 2
            },
            "text/plain": [
              "HBox(children=(IntProgress(value=0, description='Downloading', max=433, style=ProgressStyle(description_width=…"
            ]
          },
          "metadata": {
            "tags": []
          }
        },
        {
          "output_type": "stream",
          "text": [
            "\n"
          ],
          "name": "stdout"
        },
        {
          "output_type": "display_data",
          "data": {
            "application/vnd.jupyter.widget-view+json": {
              "model_id": "4454e28f02ad4f11aabc5a66951860c4",
              "version_minor": 0,
              "version_major": 2
            },
            "text/plain": [
              "HBox(children=(IntProgress(value=0, description='Downloading', max=435779157, style=ProgressStyle(description_…"
            ]
          },
          "metadata": {
            "tags": []
          }
        },
        {
          "output_type": "stream",
          "text": [
            "\n"
          ],
          "name": "stdout"
        }
      ]
    },
    {
      "cell_type": "code",
      "metadata": {
        "id": "1Th9LkNIfF5V",
        "colab_type": "code",
        "colab": {}
      },
      "source": [
        "last_hidden_state, pooled_output = bert_model(\n",
        "    input_ids = encoding['input_ids'],\n",
        "    attention_mask = encoding['attention_mask']\n",
        "    )"
      ],
      "execution_count": 0,
      "outputs": []
    },
    {
      "cell_type": "code",
      "metadata": {
        "id": "wW6OZSIcfl98",
        "colab_type": "code",
        "colab": {
          "base_uri": "https://localhost:8080/",
          "height": 0
        },
        "outputId": "cc6322f4-65f3-4593-f07e-d65c01af79f7"
      },
      "source": [
        "last_hidden_state.shape"
      ],
      "execution_count": 24,
      "outputs": [
        {
          "output_type": "execute_result",
          "data": {
            "text/plain": [
              "torch.Size([1, 32, 768])"
            ]
          },
          "metadata": {
            "tags": []
          },
          "execution_count": 24
        }
      ]
    },
    {
      "cell_type": "code",
      "metadata": {
        "id": "GnruP8FpfxK8",
        "colab_type": "code",
        "colab": {
          "base_uri": "https://localhost:8080/",
          "height": 0
        },
        "outputId": "ff6cd924-e041-4e1c-f70f-1d8384e4c7ff"
      },
      "source": [
        "pooled_output.shape"
      ],
      "execution_count": 25,
      "outputs": [
        {
          "output_type": "execute_result",
          "data": {
            "text/plain": [
              "torch.Size([1, 768])"
            ]
          },
          "metadata": {
            "tags": []
          },
          "execution_count": 25
        }
      ]
    },
    {
      "cell_type": "markdown",
      "metadata": {
        "id": "IqjCCyESgXWU",
        "colab_type": "text"
      },
      "source": [
        "# Sentiment Classifier Model"
      ]
    },
    {
      "cell_type": "code",
      "metadata": {
        "id": "hWqNVE_1f0aD",
        "colab_type": "code",
        "colab": {}
      },
      "source": [
        "class SentimentClassifier(nn.Module):\n",
        "  def __init__(self, n_classes):\n",
        "    super(SentimentClassifier, self).__init__()\n",
        "    self.bert = BertModel.from_pretrained(\"bert-base-cased\")\n",
        "    self.drop = nn.Dropout()\n",
        "    self.out = nn.Linear(self.bert.config.hidden_size, n_classes)\n",
        "    self.softmax = nn.Softmax(dim=1)\n",
        "  \n",
        "  def forward(self, input_ids, attention_mask):\n",
        "    _, pooled_output = self.bert(\n",
        "        input_ids = input_ids,\n",
        "        attention_mask = attention_mask\n",
        "    )\n",
        "    output = self.drop(pooled_output)\n",
        "    output = self.out(output)\n",
        "    return self.softmax(output)"
      ],
      "execution_count": 0,
      "outputs": []
    },
    {
      "cell_type": "code",
      "metadata": {
        "id": "JeQVtwu3GXoO",
        "colab_type": "code",
        "colab": {}
      },
      "source": [
        "device = torch.device(\"cuda:0\" if torch.cuda.is_available() else \"cpu\")\n",
        "model = SentimentClassifier(len(class_names))\n",
        "model = model.to(device)"
      ],
      "execution_count": 0,
      "outputs": []
    },
    {
      "cell_type": "code",
      "metadata": {
        "id": "ndkq3QHQGr6J",
        "colab_type": "code",
        "colab": {
          "base_uri": "https://localhost:8080/",
          "height": 0
        },
        "outputId": "1d5728e4-df39-4a57-8d28-24bc379c375e"
      },
      "source": [
        "input_ids = data['input_ids'].to(device)\n",
        "attention_mask = data['attention_mask'].to(device)\n",
        "\n",
        "#batch-size & max token length\n",
        "print(input_ids.shape)\n",
        "print(attention_mask.shape)"
      ],
      "execution_count": 28,
      "outputs": [
        {
          "output_type": "stream",
          "text": [
            "torch.Size([16, 140])\n",
            "torch.Size([16, 140])\n"
          ],
          "name": "stdout"
        }
      ]
    },
    {
      "cell_type": "code",
      "metadata": {
        "id": "Rk2UTe7cHmC7",
        "colab_type": "code",
        "colab": {
          "base_uri": "https://localhost:8080/",
          "height": 0
        },
        "outputId": "0c8ce06c-4acb-4272-c612-c1c288b4c0d8"
      },
      "source": [
        "model(input_ids, attention_mask)"
      ],
      "execution_count": 29,
      "outputs": [
        {
          "output_type": "execute_result",
          "data": {
            "text/plain": [
              "tensor([[0.1213, 0.5749, 0.3038],\n",
              "        [0.2742, 0.4233, 0.3024],\n",
              "        [0.3426, 0.3631, 0.2943],\n",
              "        [0.1203, 0.5351, 0.3446],\n",
              "        [0.1358, 0.2028, 0.6614],\n",
              "        [0.1838, 0.4430, 0.3732],\n",
              "        [0.2801, 0.3557, 0.3642],\n",
              "        [0.2770, 0.3816, 0.3413],\n",
              "        [0.2233, 0.4560, 0.3206],\n",
              "        [0.3621, 0.4003, 0.2376],\n",
              "        [0.1272, 0.3926, 0.4802],\n",
              "        [0.1848, 0.4544, 0.3608],\n",
              "        [0.3510, 0.2421, 0.4068],\n",
              "        [0.1165, 0.3482, 0.5353],\n",
              "        [0.1795, 0.1555, 0.6649],\n",
              "        [0.1230, 0.3953, 0.4817]], device='cuda:0', grad_fn=<SoftmaxBackward>)"
            ]
          },
          "metadata": {
            "tags": []
          },
          "execution_count": 29
        }
      ]
    },
    {
      "cell_type": "markdown",
      "metadata": {
        "id": "T_6LlW6EIC0O",
        "colab_type": "text"
      },
      "source": [
        "# Training Process"
      ]
    },
    {
      "cell_type": "code",
      "metadata": {
        "id": "BXDOpShkH4M9",
        "colab_type": "code",
        "colab": {}
      },
      "source": [
        "#original Bert used AdamW: Adam algorithm with weight decay fix\n",
        "optimizer = AdamW(model.parameters(), lr = LEARNING_RATE, correct_bias=False)\n",
        "total_step = len(train_data_loader) * EPOCHS\n",
        "\n",
        "#adjust learning rate\n",
        "scheduler = get_linear_schedule_with_warmup(\n",
        "    optimizer,\n",
        "    num_warmup_steps = 0,\n",
        "    num_training_steps = total_step\n",
        ")\n",
        "\n",
        "#define loss function\n",
        "loss_fn = nn.CrossEntropyLoss().to(device)"
      ],
      "execution_count": 0,
      "outputs": []
    },
    {
      "cell_type": "code",
      "metadata": {
        "id": "8fT7ZOXPJTdU",
        "colab_type": "code",
        "colab": {}
      },
      "source": [
        "def train_epoch(model, data_loader, loss_fn, optimizer, device, scheduler, n_examples):\n",
        "  model = model.train()\n",
        "  losses = []\n",
        "  correct_prediction = 0\n",
        "\n",
        "  for d in data_loader:\n",
        "    input_ids = d['input_ids'].to(device)\n",
        "    attention_mask = d['attention_mask'].to(device)\n",
        "    targets = d['targets'].to(device)\n",
        "    outputs = model(\n",
        "        input_ids = input_ids,\n",
        "        attention_mask = attention_mask\n",
        "    )\n",
        "\n",
        "    _, preds = torch.max(outputs, dim = 1)\n",
        "    loss = loss_fn(outputs, targets)\n",
        "\n",
        "    correct_prediction += torch.sum(preds == targets)\n",
        "    losses.append(loss.item())\n",
        "\n",
        "    loss.backward()\n",
        "    nn.utils.clip_grad_norm_(model.parameters(), max_norm=1.0)\n",
        "    optimizer.step()\n",
        "    scheduler.step()\n",
        "    optimizer.zero_grad()\n",
        "  return correct_prediction.double() / n_examples, np.mean(losses)\n"
      ],
      "execution_count": 0,
      "outputs": []
    },
    {
      "cell_type": "code",
      "metadata": {
        "id": "Ub_1qI-WLWC7",
        "colab_type": "code",
        "colab": {}
      },
      "source": [
        "def eval_model(model, data_loader, loss_fn, device, n_examples):\n",
        "  model.eval()\n",
        "  losses = []\n",
        "  correct_prediction = 0\n",
        "  with torch.no_grad():\n",
        "    for d in data_loader:\n",
        "      input_ids = d['input_ids'].to(device)\n",
        "      attention_mask = d['attention_mask'].to(device)\n",
        "      targets = d['targets'].to(device)\n",
        "      outputs = model(\n",
        "          input_ids = input_ids,\n",
        "          attention_mask = attention_mask\n",
        "      )\n",
        "\n",
        "      _, preds = torch.max(outputs, dim = 1)\n",
        "      loss = loss_fn(outputs, targets)\n",
        "\n",
        "      correct_prediction += torch.sum(preds == targets)\n",
        "      losses.append(loss.item())\n",
        "  return correct_prediction.double() / n_examples, np.mean(losses)\n"
      ],
      "execution_count": 0,
      "outputs": []
    },
    {
      "cell_type": "code",
      "metadata": {
        "id": "qnN7v_qiM4vX",
        "colab_type": "code",
        "colab": {
          "base_uri": "https://localhost:8080/",
          "height": 1000
        },
        "outputId": "763ad55b-9829-4087-dcd8-ec6ebc110e2a"
      },
      "source": [
        "%%time\n",
        "\n",
        "history = defaultdict(list)\n",
        "best_accuracy = 0\n",
        "\n",
        "for epoch in range(EPOCHS):\n",
        "  print(f'Epoch {epoch+1}/{EPOCHS}')\n",
        "  print('-' * 10)\n",
        "  train_acc, train_loss = train_epoch(model, train_data_loader, loss_fn, optimizer, device, scheduler, len(df_train))\n",
        "  print(f'Train loss {train_loss} Train accuracy {train_acc}')\n",
        "\n",
        "  val_acc, val_loss = eval_model(model, val_data_loader, loss_fn, device, len(df_val))\n",
        "  print(f'Val loss {val_loss} Val accuracy {val_acc}')\n",
        "  print()\n",
        "\n",
        "  history['train_acc'].append(train_acc)\n",
        "  history['train_loss'].append(train_loss)\n",
        "\n",
        "  history['val_acc'].append(val_acc)\n",
        "  history['val_loss'].append(val_loss)\n",
        "\n",
        "  if val_acc > best_accuracy:\n",
        "    torch.save(model.state_dict(), 'model.bin')\n",
        "    best_accuracy = val_acc"
      ],
      "execution_count": 33,
      "outputs": [
        {
          "output_type": "stream",
          "text": [
            "Epoch 1/40\n",
            "----------\n"
          ],
          "name": "stdout"
        },
        {
          "output_type": "stream",
          "text": [
            "/pytorch/torch/csrc/utils/python_arg_parser.cpp:756: UserWarning: This overload of add_ is deprecated:\n",
            "\tadd_(Number alpha, Tensor other)\n",
            "Consider using one of the following signatures instead:\n",
            "\tadd_(Tensor other, *, Number alpha)\n"
          ],
          "name": "stderr"
        },
        {
          "output_type": "stream",
          "text": [
            "Train loss 0.9358198844729759 Train accuracy 0.5938413361169103\n",
            "Val loss 0.8613394633928935 Val accuracy 0.6803005008347246\n",
            "\n",
            "Epoch 2/40\n",
            "----------\n",
            "Train loss 0.8253864336491428 Train accuracy 0.7203549060542798\n",
            "Val loss 0.8492761953671774 Val accuracy 0.6903171953255426\n",
            "\n",
            "Epoch 3/40\n",
            "----------\n",
            "Train loss 0.7614257487908429 Train accuracy 0.7861169102296451\n",
            "Val loss 0.8334545342127482 Val accuracy 0.7128547579298832\n",
            "\n",
            "Epoch 4/40\n",
            "----------\n",
            "Train loss 0.7261896736434784 Train accuracy 0.822651356993737\n",
            "Val loss 0.805390388170878 Val accuracy 0.7429048414023373\n",
            "\n",
            "Epoch 5/40\n",
            "----------\n",
            "Train loss 0.7098102347679648 Train accuracy 0.8400835073068894\n",
            "Val loss 0.8066188009579977 Val accuracy 0.7404006677796328\n",
            "\n",
            "Epoch 6/40\n",
            "----------\n",
            "Train loss 0.6897518854706435 Train accuracy 0.860125260960334\n",
            "Val loss 0.7923408118883769 Val accuracy 0.7579298831385642\n",
            "\n",
            "Epoch 7/40\n",
            "----------\n",
            "Train loss 0.6807595003825396 Train accuracy 0.8705636743215032\n",
            "Val loss 0.7928208947181702 Val accuracy 0.7595993322203674\n",
            "\n",
            "Epoch 8/40\n",
            "----------\n",
            "Train loss 0.6763460721714867 Train accuracy 0.8742171189979123\n",
            "Val loss 0.795072676340739 Val accuracy 0.7537562604340567\n",
            "\n",
            "Epoch 9/40\n",
            "----------\n",
            "Train loss 0.6691316941345673 Train accuracy 0.8818371607515658\n",
            "Val loss 0.7869945176442464 Val accuracy 0.7621035058430718\n",
            "\n",
            "Epoch 10/40\n",
            "----------\n",
            "Train loss 0.669916526901105 Train accuracy 0.881106471816284\n",
            "Val loss 0.8034501338005066 Val accuracy 0.7437395659432388\n",
            "\n",
            "Epoch 11/40\n",
            "----------\n",
            "Train loss 0.665758640121339 Train accuracy 0.8850730688935282\n",
            "Val loss 0.7840725262959798 Val accuracy 0.7671118530884808\n",
            "\n",
            "Epoch 12/40\n",
            "----------\n",
            "Train loss 0.6595073468697091 Train accuracy 0.8916492693110648\n",
            "Val loss 0.7907719254493714 Val accuracy 0.7604340567612689\n",
            "\n",
            "Epoch 13/40\n",
            "----------\n",
            "Train loss 0.6549637307706778 Train accuracy 0.8959290187891441\n",
            "Val loss 0.7801642203330994 Val accuracy 0.7712854757929883\n",
            "\n",
            "Epoch 14/40\n",
            "----------\n",
            "Train loss 0.6546728517455928 Train accuracy 0.8961377870563675\n",
            "Val loss 0.7711837593714396 Val accuracy 0.7787979966611018\n",
            "\n",
            "Epoch 15/40\n",
            "----------\n",
            "Train loss 0.6510083876388499 Train accuracy 0.9004175365344468\n",
            "Val loss 0.7732128445307414 Val accuracy 0.7771285475792988\n",
            "\n",
            "Epoch 16/40\n",
            "----------\n",
            "Train loss 0.6461573861079144 Train accuracy 0.905114822546973\n",
            "Val loss 0.7769840709368387 Val accuracy 0.7729549248747913\n",
            "\n",
            "Epoch 17/40\n",
            "----------\n",
            "Train loss 0.6459456951868952 Train accuracy 0.9053235908141963\n",
            "Val loss 0.7845298687616984 Val accuracy 0.7679465776293823\n",
            "\n",
            "Epoch 18/40\n",
            "----------\n",
            "Train loss 0.643299325380182 Train accuracy 0.9079331941544886\n",
            "Val loss 0.776236842473348 Val accuracy 0.7746243739565943\n",
            "\n",
            "Epoch 19/40\n",
            "----------\n",
            "Train loss 0.642728735290107 Train accuracy 0.9082463465553237\n",
            "Val loss 0.7743529446919759 Val accuracy 0.7779632721202003\n",
            "\n",
            "Epoch 20/40\n",
            "----------\n",
            "Train loss 0.6435144853114285 Train accuracy 0.9076200417536535\n",
            "Val loss 0.7783007502555848 Val accuracy 0.7721202003338898\n",
            "\n",
            "Epoch 21/40\n",
            "----------\n",
            "Train loss 0.6426843791851814 Train accuracy 0.9086638830897704\n",
            "Val loss 0.777571709950765 Val accuracy 0.7712854757929883\n",
            "\n",
            "Epoch 22/40\n",
            "----------\n",
            "Train loss 0.6403569943319776 Train accuracy 0.9109603340292276\n",
            "Val loss 0.7845612494150798 Val accuracy 0.7662771285475793\n",
            "\n",
            "Epoch 23/40\n",
            "----------\n",
            "Train loss 0.6416355545612329 Train accuracy 0.9094989561586639\n",
            "Val loss 0.7818975655237833 Val accuracy 0.7687813021702838\n",
            "\n",
            "Epoch 24/40\n",
            "----------\n",
            "Train loss 0.6392440979986238 Train accuracy 0.9122129436325679\n",
            "Val loss 0.7830521861712137 Val accuracy 0.7671118530884808\n",
            "\n",
            "Epoch 25/40\n",
            "----------\n",
            "Train loss 0.6406536670479432 Train accuracy 0.9104384133611692\n",
            "Val loss 0.7842933495839437 Val accuracy 0.7671118530884808\n",
            "\n",
            "Epoch 26/40\n",
            "----------\n",
            "Train loss 0.6364855286673035 Train accuracy 0.9148225469728601\n",
            "Val loss 0.7697533575693766 Val accuracy 0.7813021702838063\n",
            "\n",
            "Epoch 27/40\n",
            "----------\n",
            "Train loss 0.6352041391578063 Train accuracy 0.9160751565762004\n",
            "Val loss 0.7865707858403523 Val accuracy 0.7646076794657763\n",
            "\n",
            "Epoch 28/40\n",
            "----------\n",
            "Train loss 0.6357611022727916 Train accuracy 0.9156576200417537\n",
            "Val loss 0.7833168371518453 Val accuracy 0.7671118530884808\n",
            "\n",
            "Epoch 29/40\n",
            "----------\n",
            "Train loss 0.6347350972721693 Train accuracy 0.9163883089770355\n",
            "Val loss 0.7833572141329448 Val accuracy 0.7671118530884808\n",
            "\n",
            "Epoch 30/40\n",
            "----------\n",
            "Train loss 0.6337630125835463 Train accuracy 0.9176409185803759\n",
            "Val loss 0.7820340991020203 Val accuracy 0.7687813021702838\n",
            "\n",
            "Epoch 31/40\n",
            "----------\n",
            "Train loss 0.632394222166383 Train accuracy 0.9187891440501045\n",
            "Val loss 0.7836126883824667 Val accuracy 0.7679465776293823\n",
            "\n",
            "Epoch 32/40\n",
            "----------\n",
            "Train loss 0.6313251907718003 Train accuracy 0.9199373695198331\n",
            "Val loss 0.7802868580818176 Val accuracy 0.7712854757929883\n",
            "\n",
            "Epoch 33/40\n",
            "----------\n",
            "Train loss 0.6306764223738783 Train accuracy 0.9206680584551149\n",
            "Val loss 0.7869324048360189 Val accuracy 0.7646076794657763\n",
            "\n",
            "Epoch 34/40\n",
            "----------\n",
            "Train loss 0.6307312839218292 Train accuracy 0.9205636743215032\n",
            "Val loss 0.7750743373235067 Val accuracy 0.7746243739565943\n",
            "\n",
            "Epoch 35/40\n",
            "----------\n",
            "Train loss 0.6294529036010844 Train accuracy 0.9220250521920669\n",
            "Val loss 0.7823071948687236 Val accuracy 0.7687813021702838\n",
            "\n",
            "Epoch 36/40\n",
            "----------\n",
            "Train loss 0.6294392422961074 Train accuracy 0.9219206680584552\n",
            "Val loss 0.7831859691937765 Val accuracy 0.7654424040066778\n",
            "\n",
            "Epoch 37/40\n",
            "----------\n",
            "Train loss 0.6285223548917818 Train accuracy 0.9230688935281838\n",
            "Val loss 0.777983869711558 Val accuracy 0.7737896494156928\n",
            "\n",
            "Epoch 38/40\n",
            "----------\n",
            "Train loss 0.6284595170681783 Train accuracy 0.9230688935281838\n",
            "Val loss 0.7755811190605164 Val accuracy 0.7746243739565943\n",
            "\n",
            "Epoch 39/40\n",
            "----------\n",
            "Train loss 0.6282037229888229 Train accuracy 0.9231732776617955\n",
            "Val loss 0.778263483842214 Val accuracy 0.7746243739565943\n",
            "\n",
            "Epoch 40/40\n",
            "----------\n",
            "Train loss 0.6285211122493712 Train accuracy 0.9227557411273487\n",
            "Val loss 0.7817648450533549 Val accuracy 0.7696160267111853\n",
            "\n",
            "CPU times: user 1h 44min 28s, sys: 1h 5min 41s, total: 2h 50min 10s\n",
            "Wall time: 2h 51min 28s\n"
          ],
          "name": "stdout"
        }
      ]
    },
    {
      "cell_type": "code",
      "metadata": {
        "id": "9p_HQZpXO_xF",
        "colab_type": "code",
        "colab": {}
      },
      "source": [
        "model = SentimentClassifier(len(class_names))\n",
        "model.load_state_dict(torch.load('model.bin'))\n",
        "model = model.to(device)"
      ],
      "execution_count": 0,
      "outputs": []
    },
    {
      "cell_type": "markdown",
      "metadata": {
        "id": "0E5RcHsARb-U",
        "colab_type": "text"
      },
      "source": [
        "# Evaluation"
      ]
    },
    {
      "cell_type": "code",
      "metadata": {
        "id": "vHFS_SCVRdNC",
        "colab_type": "code",
        "colab": {}
      },
      "source": [
        "def get_reviews(model, data_loader):\n",
        "  model = model.eval()\n",
        "\n",
        "  review_texts = []\n",
        "  predictions = []\n",
        "  prediction_probs = []\n",
        "  real_values = []\n",
        "\n",
        "  with torch.no_grad():\n",
        "    for d in data_loader:\n",
        "      texts = d['review_text']\n",
        "      input_ids = d['input_ids'].to(device)\n",
        "      attention_mask = d['attention_mask'].to(device)\n",
        "      targets = d['targets'].to(device)\n",
        "      outputs = model(\n",
        "          input_ids = input_ids,\n",
        "          attention_mask = attention_mask\n",
        "      )\n",
        "\n",
        "      _, preds = torch.max(outputs, dim = 1)\n",
        "\n",
        "      review_texts.extend(texts)\n",
        "      predictions.extend(preds)\n",
        "      prediction_probs.extend(outputs)\n",
        "      real_values.extend(targets)\n",
        "\n",
        "  predictions = torch.stack(predictions).cpu()\n",
        "  prediction_probs = torch.stack(prediction_probs).cpu()\n",
        "  real_values = torch.stack(real_values).cpu()\n",
        "\n",
        "  return review_texts, predictions, prediction_probs, real_values"
      ],
      "execution_count": 0,
      "outputs": []
    },
    {
      "cell_type": "code",
      "metadata": {
        "id": "pqFXgucaTWuL",
        "colab_type": "code",
        "colab": {}
      },
      "source": [
        "test_acc, test_loss = eval_model(model, test_data_loader, loss_fn, device, len(df_test))"
      ],
      "execution_count": 0,
      "outputs": []
    },
    {
      "cell_type": "code",
      "metadata": {
        "id": "q4fFJMkBTG3B",
        "colab_type": "code",
        "colab": {}
      },
      "source": [
        "y_review_texts, y_pred, y_pred_probs, y_test = get_reviews(model, test_data_loader)"
      ],
      "execution_count": 0,
      "outputs": []
    },
    {
      "cell_type": "code",
      "metadata": {
        "id": "sR40E0t7TzXX",
        "colab_type": "code",
        "colab": {
          "base_uri": "https://localhost:8080/",
          "height": 187
        },
        "outputId": "4bf9063f-d994-42ca-9615-21e4d67243b7"
      },
      "source": [
        "print(classification_report(y_test, y_pred, target_names = class_names))"
      ],
      "execution_count": 52,
      "outputs": [
        {
          "output_type": "stream",
          "text": [
            "              precision    recall  f1-score   support\n",
            "\n",
            "    negative       0.78      0.76      0.77       409\n",
            "     neutral       0.65      0.73      0.69       390\n",
            "    positive       0.87      0.79      0.83       399\n",
            "\n",
            "    accuracy                           0.76      1198\n",
            "   macro avg       0.77      0.76      0.76      1198\n",
            "weighted avg       0.77      0.76      0.76      1198\n",
            "\n"
          ],
          "name": "stdout"
        }
      ]
    },
    {
      "cell_type": "code",
      "metadata": {
        "id": "Vz8ckFLrUASz",
        "colab_type": "code",
        "colab": {}
      },
      "source": [
        "#confusion matrix heatmap\n",
        "def show_confusion_matrix(confusion_matrix):\n",
        "  hmap = sns.heatmap(confusion_matrix, annot = True, fmt = \"d\", cmap = \"Blues\")\n",
        "  hmap.yaxis.set_ticklabels(hmap.yaxis.get_ticklabels(), rotation = 0, ha = \"right\")\n",
        "  hmap.xaxis.set_ticklabels(hmap.xaxis.get_ticklabels(), rotation = 30, ha = \"right\")\n",
        "  plt.ylabel('True Sentiment')\n",
        "  plt.xlabel('Predicted Sentiment')"
      ],
      "execution_count": 0,
      "outputs": []
    },
    {
      "cell_type": "code",
      "metadata": {
        "id": "3x0YPNeYU707",
        "colab_type": "code",
        "colab": {
          "base_uri": "https://localhost:8080/",
          "height": 534
        },
        "outputId": "33e27912-a9ba-475f-dfab-7d0ab103962f"
      },
      "source": [
        "cm = confusion_matrix(y_test, y_pred)\n",
        "df_cm = pd.DataFrame(cm, index = class_names, columns = class_names)\n",
        "show_confusion_matrix(df_cm)"
      ],
      "execution_count": 56,
      "outputs": [
        {
          "output_type": "display_data",
          "data": {
            "image/png": "[encoded data removed]",
            "text/plain": [
              "<Figure size 864x576 with 2 Axes>"
            ]
          },
          "metadata": {
            "tags": []
          }
        }
      ]
    },
    {
      "cell_type": "code",
      "metadata": {
        "id": "2g5BAs0wVYyK",
        "colab_type": "code",
        "colab": {}
      },
      "source": [
        "# check review \n",
        "\n",
        "idx = 2 \n",
        "\n",
        "review_text = y_review_texts[idx]\n",
        "true_sentiment = y_test[idx]\n",
        "\n",
        "pred_df = pd.DataFrame(\n",
        "    {\n",
        "        'class_names': class_names,\n",
        "        'values': y_pred_probs[idx]\n",
        "    }\n",
        ")"
      ],
      "execution_count": 0,
      "outputs": []
    },
    {
      "cell_type": "code",
      "metadata": {
        "id": "1egOet4QWSBl",
        "colab_type": "code",
        "colab": {
          "base_uri": "https://localhost:8080/",
          "height": 170
        },
        "outputId": "649b4911-6e8b-4a0a-a32e-00402739b1bb"
      },
      "source": [
        "print(\"\\n\".join(wrap(review_text)))\n",
        "print()\n",
        "print(f'True Sentiment: {class_names[true_sentiment]}')"
      ],
      "execution_count": 61,
      "outputs": [
        {
          "output_type": "stream",
          "text": [
            "This app really helped me slow my thoughts at night, and really relax\n",
            "before going to bed. The bedtime stories gave my mind something else\n",
            "to focus on instead of racing thoughts, and I am able to fall asleep\n",
            "better. The breathing exercises have helped me to self-soothe/ calm\n",
            "down when I am faced with anxious situations. It's sad though that it\n",
            "requires one to subscribe to get the full usage out of the app, but I\n",
            "understand that people have to make money.\n",
            "\n",
            "True Sentiment: positive\n"
          ],
          "name": "stdout"
        }
      ]
    },
    {
      "cell_type": "code",
      "metadata": {
        "id": "Z4qqGF7aWj-R",
        "colab_type": "code",
        "colab": {
          "base_uri": "https://localhost:8080/",
          "height": 506
        },
        "outputId": "57045518-11c8-4389-9d74-09fef4873189"
      },
      "source": [
        "sns.barplot(x='values', y='class_names', data = pred_df, orient = 'h')\n",
        "plt.ylabel('sentiment')\n",
        "plt.xlabel('probability')\n",
        "plt.xlim([0,1]);"
      ],
      "execution_count": 62,
      "outputs": [
        {
          "output_type": "display_data",
          "data": {
            "image/png": "[encoded data removed]",
            "text/plain": [
              "<Figure size 864x576 with 1 Axes>"
            ]
          },
          "metadata": {
            "tags": []
          }
        }
      ]
    },
    {
      "cell_type": "markdown",
      "metadata": {
        "id": "LKIPiHpHXH_Z",
        "colab_type": "text"
      },
      "source": [
        "# Sentiment on Raw Text"
      ]
    },
    {
      "cell_type": "code",
      "metadata": {
        "id": "2JY8O11mXLz1",
        "colab_type": "code",
        "colab": {}
      },
      "source": [
        "review_text = 'I love this health tracker. It has made me very active'"
      ],
      "execution_count": 0,
      "outputs": []
    },
    {
      "cell_type": "code",
      "metadata": {
        "id": "iVE1yQz2XUe-",
        "colab_type": "code",
        "colab": {}
      },
      "source": [
        "encoded_review = tokenizer.encode_plus(\n",
        "    review_text,\n",
        "    max_length = MAX_LENGTH,\n",
        "    add_special_tokens= True,\n",
        "    return_token_type_ids = False,\n",
        "    pad_to_max_length = True,\n",
        "    return_attention_mask = True,\n",
        "    return_tensors = 'pt'\n",
        ")"
      ],
      "execution_count": 0,
      "outputs": []
    },
    {
      "cell_type": "code",
      "metadata": {
        "id": "Unx-fwbZXypl",
        "colab_type": "code",
        "colab": {}
      },
      "source": [
        "input_ids = encoded_review['input_ids'].to(device)\n",
        "attention_mask = encoded_review['attention_mask'].to(device)"
      ],
      "execution_count": 0,
      "outputs": []
    },
    {
      "cell_type": "code",
      "metadata": {
        "id": "bqK7jRA2X_mM",
        "colab_type": "code",
        "colab": {}
      },
      "source": [
        "output = model(input_ids, attention_mask)\n",
        "_, prediction = torch.max(output, dim = 1)"
      ],
      "execution_count": 0,
      "outputs": []
    },
    {
      "cell_type": "code",
      "metadata": {
        "id": "DrOxDCYWYK-2",
        "colab_type": "code",
        "colab": {
          "base_uri": "https://localhost:8080/",
          "height": 51
        },
        "outputId": "84a4dce3-df7a-4925-a45a-4781cdf266bf"
      },
      "source": [
        "print(f'Review Text: {review_text}')\n",
        "print(f'Sentiment: {class_names[prediction]}')"
      ],
      "execution_count": 70,
      "outputs": [
        {
          "output_type": "stream",
          "text": [
            "Review Text: I love this health tracker. It has made me very active\n",
            "Sentiment: positive\n"
          ],
          "name": "stdout"
        }
      ]
    },
    {
      "cell_type": "code",
      "metadata": {
        "id": "QYOS3gY9gY1i",
        "colab_type": "code",
        "colab": {}
      },
      "source": [
        ""
      ],
      "execution_count": 0,
      "outputs": []
    }
  ]
}