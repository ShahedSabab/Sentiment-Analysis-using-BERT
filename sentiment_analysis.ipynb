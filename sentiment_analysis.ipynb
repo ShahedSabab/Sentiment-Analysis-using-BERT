{
  "nbformat": 4,
  "nbformat_minor": 0,
  "metadata": {
    "colab": {
      "name": "sentiment analysis.ipynb",
      "provenance": [],
      "toc_visible": true,
      "authorship_tag": "ABX9TyP7GGj6vivOXOo4MTS1PcyE",
      "include_colab_link": true
    },
    "kernelspec": {
      "name": "python3",
      "display_name": "Python 3"
    },
    "accelerator": "GPU",
    "widgets": {
      "application/vnd.jupyter.widget-state+json": {
        "c76da9eeda944d1ea2947aee3b2c66be": {
          "model_module": "@jupyter-widgets/controls",
          "model_name": "HBoxModel",
          "state": {
            "_view_name": "HBoxView",
            "_dom_classes": [],
            "_model_name": "HBoxModel",
            "_view_module": "@jupyter-widgets/controls",
            "_model_module_version": "1.5.0",
            "_view_count": null,
            "_view_module_version": "1.5.0",
            "box_style": "",
            "layout": "IPY_MODEL_d0c366c508cd478e9a3195bbeb1c0025",
            "_model_module": "@jupyter-widgets/controls",
            "children": [
              "IPY_MODEL_b63d7e2edc6e4a63832974ef5e445874",
              "IPY_MODEL_2c50fecfa43b4ba597e03a93aa0765e9"
            ]
          }
        },
        "d0c366c508cd478e9a3195bbeb1c0025": {
          "model_module": "@jupyter-widgets/base",
          "model_name": "LayoutModel",
          "state": {
            "_view_name": "LayoutView",
            "grid_template_rows": null,
            "right": null,
            "justify_content": null,
            "_view_module": "@jupyter-widgets/base",
            "overflow": null,
            "_model_module_version": "1.2.0",
            "_view_count": null,
            "flex_flow": null,
            "width": null,
            "min_width": null,
            "border": null,
            "align_items": null,
            "bottom": null,
            "_model_module": "@jupyter-widgets/base",
            "top": null,
            "grid_column": null,
            "overflow_y": null,
            "overflow_x": null,
            "grid_auto_flow": null,
            "grid_area": null,
            "grid_template_columns": null,
            "flex": null,
            "_model_name": "LayoutModel",
            "justify_items": null,
            "grid_row": null,
            "max_height": null,
            "align_content": null,
            "visibility": null,
            "align_self": null,
            "height": null,
            "min_height": null,
            "padding": null,
            "grid_auto_rows": null,
            "grid_gap": null,
            "max_width": null,
            "order": null,
            "_view_module_version": "1.2.0",
            "grid_template_areas": null,
            "object_position": null,
            "object_fit": null,
            "grid_auto_columns": null,
            "margin": null,
            "display": null,
            "left": null
          }
        },
        "b63d7e2edc6e4a63832974ef5e445874": {
          "model_module": "@jupyter-widgets/controls",
          "model_name": "IntProgressModel",
          "state": {
            "_view_name": "ProgressView",
            "style": "IPY_MODEL_65c4ca8e9e3a4b859ea2608a2f2060df",
            "_dom_classes": [],
            "description": "Downloading: 100%",
            "_model_name": "IntProgressModel",
            "bar_style": "success",
            "max": 213450,
            "_view_module": "@jupyter-widgets/controls",
            "_model_module_version": "1.5.0",
            "value": 213450,
            "_view_count": null,
            "_view_module_version": "1.5.0",
            "orientation": "horizontal",
            "min": 0,
            "description_tooltip": null,
            "_model_module": "@jupyter-widgets/controls",
            "layout": "IPY_MODEL_1cffc92b4baf44bca5fadc2466c852cb"
          }
        },
        "2c50fecfa43b4ba597e03a93aa0765e9": {
          "model_module": "@jupyter-widgets/controls",
          "model_name": "HTMLModel",
          "state": {
            "_view_name": "HTMLView",
            "style": "IPY_MODEL_0d5ebb95e7d4468c9cc3670562bdd0b7",
            "_dom_classes": [],
            "description": "",
            "_model_name": "HTMLModel",
            "placeholder": "​",
            "_view_module": "@jupyter-widgets/controls",
            "_model_module_version": "1.5.0",
            "value": " 213k/213k [00:00&lt;00:00, 285kB/s]",
            "_view_count": null,
            "_view_module_version": "1.5.0",
            "description_tooltip": null,
            "_model_module": "@jupyter-widgets/controls",
            "layout": "IPY_MODEL_e2ecc769605447899bf47b88d212535c"
          }
        },
        "65c4ca8e9e3a4b859ea2608a2f2060df": {
          "model_module": "@jupyter-widgets/controls",
          "model_name": "ProgressStyleModel",
          "state": {
            "_view_name": "StyleView",
            "_model_name": "ProgressStyleModel",
            "description_width": "initial",
            "_view_module": "@jupyter-widgets/base",
            "_model_module_version": "1.5.0",
            "_view_count": null,
            "_view_module_version": "1.2.0",
            "bar_color": null,
            "_model_module": "@jupyter-widgets/controls"
          }
        },
        "1cffc92b4baf44bca5fadc2466c852cb": {
          "model_module": "@jupyter-widgets/base",
          "model_name": "LayoutModel",
          "state": {
            "_view_name": "LayoutView",
            "grid_template_rows": null,
            "right": null,
            "justify_content": null,
            "_view_module": "@jupyter-widgets/base",
            "overflow": null,
            "_model_module_version": "1.2.0",
            "_view_count": null,
            "flex_flow": null,
            "width": null,
            "min_width": null,
            "border": null,
            "align_items": null,
            "bottom": null,
            "_model_module": "@jupyter-widgets/base",
            "top": null,
            "grid_column": null,
            "overflow_y": null,
            "overflow_x": null,
            "grid_auto_flow": null,
            "grid_area": null,
            "grid_template_columns": null,
            "flex": null,
            "_model_name": "LayoutModel",
            "justify_items": null,
            "grid_row": null,
            "max_height": null,
            "align_content": null,
            "visibility": null,
            "align_self": null,
            "height": null,
            "min_height": null,
            "padding": null,
            "grid_auto_rows": null,
            "grid_gap": null,
            "max_width": null,
            "order": null,
            "_view_module_version": "1.2.0",
            "grid_template_areas": null,
            "object_position": null,
            "object_fit": null,
            "grid_auto_columns": null,
            "margin": null,
            "display": null,
            "left": null
          }
        },
        "0d5ebb95e7d4468c9cc3670562bdd0b7": {
          "model_module": "@jupyter-widgets/controls",
          "model_name": "DescriptionStyleModel",
          "state": {
            "_view_name": "StyleView",
            "_model_name": "DescriptionStyleModel",
            "description_width": "",
            "_view_module": "@jupyter-widgets/base",
            "_model_module_version": "1.5.0",
            "_view_count": null,
            "_view_module_version": "1.2.0",
            "_model_module": "@jupyter-widgets/controls"
          }
        },
        "e2ecc769605447899bf47b88d212535c": {
          "model_module": "@jupyter-widgets/base",
          "model_name": "LayoutModel",
          "state": {
            "_view_name": "LayoutView",
            "grid_template_rows": null,
            "right": null,
            "justify_content": null,
            "_view_module": "@jupyter-widgets/base",
            "overflow": null,
            "_model_module_version": "1.2.0",
            "_view_count": null,
            "flex_flow": null,
            "width": null,
            "min_width": null,
            "border": null,
            "align_items": null,
            "bottom": null,
            "_model_module": "@jupyter-widgets/base",
            "top": null,
            "grid_column": null,
            "overflow_y": null,
            "overflow_x": null,
            "grid_auto_flow": null,
            "grid_area": null,
            "grid_template_columns": null,
            "flex": null,
            "_model_name": "LayoutModel",
            "justify_items": null,
            "grid_row": null,
            "max_height": null,
            "align_content": null,
            "visibility": null,
            "align_self": null,
            "height": null,
            "min_height": null,
            "padding": null,
            "grid_auto_rows": null,
            "grid_gap": null,
            "max_width": null,
            "order": null,
            "_view_module_version": "1.2.0",
            "grid_template_areas": null,
            "object_position": null,
            "object_fit": null,
            "grid_auto_columns": null,
            "margin": null,
            "display": null,
            "left": null
          }
        },
        "bb15398cf40c40c09bb0625665d514ac": {
          "model_module": "@jupyter-widgets/controls",
          "model_name": "HBoxModel",
          "state": {
            "_view_name": "HBoxView",
            "_dom_classes": [],
            "_model_name": "HBoxModel",
            "_view_module": "@jupyter-widgets/controls",
            "_model_module_version": "1.5.0",
            "_view_count": null,
            "_view_module_version": "1.5.0",
            "box_style": "",
            "layout": "IPY_MODEL_9b10efc6ba5a45e5b7b75869deb14a5a",
            "_model_module": "@jupyter-widgets/controls",
            "children": [
              "IPY_MODEL_2d8778fbf0af4fc9a83262d624a8fa88",
              "IPY_MODEL_2abf887f51ff4f04ae04f513d576af9d"
            ]
          }
        },
        "9b10efc6ba5a45e5b7b75869deb14a5a": {
          "model_module": "@jupyter-widgets/base",
          "model_name": "LayoutModel",
          "state": {
            "_view_name": "LayoutView",
            "grid_template_rows": null,
            "right": null,
            "justify_content": null,
            "_view_module": "@jupyter-widgets/base",
            "overflow": null,
            "_model_module_version": "1.2.0",
            "_view_count": null,
            "flex_flow": null,
            "width": null,
            "min_width": null,
            "border": null,
            "align_items": null,
            "bottom": null,
            "_model_module": "@jupyter-widgets/base",
            "top": null,
            "grid_column": null,
            "overflow_y": null,
            "overflow_x": null,
            "grid_auto_flow": null,
            "grid_area": null,
            "grid_template_columns": null,
            "flex": null,
            "_model_name": "LayoutModel",
            "justify_items": null,
            "grid_row": null,
            "max_height": null,
            "align_content": null,
            "visibility": null,
            "align_self": null,
            "height": null,
            "min_height": null,
            "padding": null,
            "grid_auto_rows": null,
            "grid_gap": null,
            "max_width": null,
            "order": null,
            "_view_module_version": "1.2.0",
            "grid_template_areas": null,
            "object_position": null,
            "object_fit": null,
            "grid_auto_columns": null,
            "margin": null,
            "display": null,
            "left": null
          }
        },
        "2d8778fbf0af4fc9a83262d624a8fa88": {
          "model_module": "@jupyter-widgets/controls",
          "model_name": "IntProgressModel",
          "state": {
            "_view_name": "ProgressView",
            "style": "IPY_MODEL_1b57f9b73a6e4a8b8e47bbea1131a788",
            "_dom_classes": [],
            "description": "Downloading: 100%",
            "_model_name": "IntProgressModel",
            "bar_style": "success",
            "max": 433,
            "_view_module": "@jupyter-widgets/controls",
            "_model_module_version": "1.5.0",
            "value": 433,
            "_view_count": null,
            "_view_module_version": "1.5.0",
            "orientation": "horizontal",
            "min": 0,
            "description_tooltip": null,
            "_model_module": "@jupyter-widgets/controls",
            "layout": "IPY_MODEL_6b32880c31254a60a9da83bcd40b593f"
          }
        },
        "2abf887f51ff4f04ae04f513d576af9d": {
          "model_module": "@jupyter-widgets/controls",
          "model_name": "HTMLModel",
          "state": {
            "_view_name": "HTMLView",
            "style": "IPY_MODEL_eef99d8169fe448ebd59afbf112fe9c0",
            "_dom_classes": [],
            "description": "",
            "_model_name": "HTMLModel",
            "placeholder": "​",
            "_view_module": "@jupyter-widgets/controls",
            "_model_module_version": "1.5.0",
            "value": " 433/433 [00:01&lt;00:00, 268B/s]",
            "_view_count": null,
            "_view_module_version": "1.5.0",
            "description_tooltip": null,
            "_model_module": "@jupyter-widgets/controls",
            "layout": "IPY_MODEL_8a6a7d164eae491bbc1286c2a59f0185"
          }
        },
        "1b57f9b73a6e4a8b8e47bbea1131a788": {
          "model_module": "@jupyter-widgets/controls",
          "model_name": "ProgressStyleModel",
          "state": {
            "_view_name": "StyleView",
            "_model_name": "ProgressStyleModel",
            "description_width": "initial",
            "_view_module": "@jupyter-widgets/base",
            "_model_module_version": "1.5.0",
            "_view_count": null,
            "_view_module_version": "1.2.0",
            "bar_color": null,
            "_model_module": "@jupyter-widgets/controls"
          }
        },
        "6b32880c31254a60a9da83bcd40b593f": {
          "model_module": "@jupyter-widgets/base",
          "model_name": "LayoutModel",
          "state": {
            "_view_name": "LayoutView",
            "grid_template_rows": null,
            "right": null,
            "justify_content": null,
            "_view_module": "@jupyter-widgets/base",
            "overflow": null,
            "_model_module_version": "1.2.0",
            "_view_count": null,
            "flex_flow": null,
            "width": null,
            "min_width": null,
            "border": null,
            "align_items": null,
            "bottom": null,
            "_model_module": "@jupyter-widgets/base",
            "top": null,
            "grid_column": null,
            "overflow_y": null,
            "overflow_x": null,
            "grid_auto_flow": null,
            "grid_area": null,
            "grid_template_columns": null,
            "flex": null,
            "_model_name": "LayoutModel",
            "justify_items": null,
            "grid_row": null,
            "max_height": null,
            "align_content": null,
            "visibility": null,
            "align_self": null,
            "height": null,
            "min_height": null,
            "padding": null,
            "grid_auto_rows": null,
            "grid_gap": null,
            "max_width": null,
            "order": null,
            "_view_module_version": "1.2.0",
            "grid_template_areas": null,
            "object_position": null,
            "object_fit": null,
            "grid_auto_columns": null,
            "margin": null,
            "display": null,
            "left": null
          }
        },
        "eef99d8169fe448ebd59afbf112fe9c0": {
          "model_module": "@jupyter-widgets/controls",
          "model_name": "DescriptionStyleModel",
          "state": {
            "_view_name": "StyleView",
            "_model_name": "DescriptionStyleModel",
            "description_width": "",
            "_view_module": "@jupyter-widgets/base",
            "_model_module_version": "1.5.0",
            "_view_count": null,
            "_view_module_version": "1.2.0",
            "_model_module": "@jupyter-widgets/controls"
          }
        },
        "8a6a7d164eae491bbc1286c2a59f0185": {
          "model_module": "@jupyter-widgets/base",
          "model_name": "LayoutModel",
          "state": {
            "_view_name": "LayoutView",
            "grid_template_rows": null,
            "right": null,
            "justify_content": null,
            "_view_module": "@jupyter-widgets/base",
            "overflow": null,
            "_model_module_version": "1.2.0",
            "_view_count": null,
            "flex_flow": null,
            "width": null,
            "min_width": null,
            "border": null,
            "align_items": null,
            "bottom": null,
            "_model_module": "@jupyter-widgets/base",
            "top": null,
            "grid_column": null,
            "overflow_y": null,
            "overflow_x": null,
            "grid_auto_flow": null,
            "grid_area": null,
            "grid_template_columns": null,
            "flex": null,
            "_model_name": "LayoutModel",
            "justify_items": null,
            "grid_row": null,
            "max_height": null,
            "align_content": null,
            "visibility": null,
            "align_self": null,
            "height": null,
            "min_height": null,
            "padding": null,
            "grid_auto_rows": null,
            "grid_gap": null,
            "max_width": null,
            "order": null,
            "_view_module_version": "1.2.0",
            "grid_template_areas": null,
            "object_position": null,
            "object_fit": null,
            "grid_auto_columns": null,
            "margin": null,
            "display": null,
            "left": null
          }
        },
        "2a6daad2f9c34bdeb81ef6d94c516041": {
          "model_module": "@jupyter-widgets/controls",
          "model_name": "HBoxModel",
          "state": {
            "_view_name": "HBoxView",
            "_dom_classes": [],
            "_model_name": "HBoxModel",
            "_view_module": "@jupyter-widgets/controls",
            "_model_module_version": "1.5.0",
            "_view_count": null,
            "_view_module_version": "1.5.0",
            "box_style": "",
            "layout": "IPY_MODEL_fc51182f96b145cdab6f09727816072f",
            "_model_module": "@jupyter-widgets/controls",
            "children": [
              "IPY_MODEL_2dfe898a66a64559b80881a081f24bd7",
              "IPY_MODEL_535adfbebfab41f580b4d6bef7098936"
            ]
          }
        },
        "fc51182f96b145cdab6f09727816072f": {
          "model_module": "@jupyter-widgets/base",
          "model_name": "LayoutModel",
          "state": {
            "_view_name": "LayoutView",
            "grid_template_rows": null,
            "right": null,
            "justify_content": null,
            "_view_module": "@jupyter-widgets/base",
            "overflow": null,
            "_model_module_version": "1.2.0",
            "_view_count": null,
            "flex_flow": null,
            "width": null,
            "min_width": null,
            "border": null,
            "align_items": null,
            "bottom": null,
            "_model_module": "@jupyter-widgets/base",
            "top": null,
            "grid_column": null,
            "overflow_y": null,
            "overflow_x": null,
            "grid_auto_flow": null,
            "grid_area": null,
            "grid_template_columns": null,
            "flex": null,
            "_model_name": "LayoutModel",
            "justify_items": null,
            "grid_row": null,
            "max_height": null,
            "align_content": null,
            "visibility": null,
            "align_self": null,
            "height": null,
            "min_height": null,
            "padding": null,
            "grid_auto_rows": null,
            "grid_gap": null,
            "max_width": null,
            "order": null,
            "_view_module_version": "1.2.0",
            "grid_template_areas": null,
            "object_position": null,
            "object_fit": null,
            "grid_auto_columns": null,
            "margin": null,
            "display": null,
            "left": null
          }
        },
        "2dfe898a66a64559b80881a081f24bd7": {
          "model_module": "@jupyter-widgets/controls",
          "model_name": "IntProgressModel",
          "state": {
            "_view_name": "ProgressView",
            "style": "IPY_MODEL_27eb3f971b3e4f6790fe6569b2e8e5ab",
            "_dom_classes": [],
            "description": "Downloading: 100%",
            "_model_name": "IntProgressModel",
            "bar_style": "success",
            "max": 435779157,
            "_view_module": "@jupyter-widgets/controls",
            "_model_module_version": "1.5.0",
            "value": 435779157,
            "_view_count": null,
            "_view_module_version": "1.5.0",
            "orientation": "horizontal",
            "min": 0,
            "description_tooltip": null,
            "_model_module": "@jupyter-widgets/controls",
            "layout": "IPY_MODEL_d23069250cdf4cf7a661fb9f9f3643c5"
          }
        },
        "535adfbebfab41f580b4d6bef7098936": {
          "model_module": "@jupyter-widgets/controls",
          "model_name": "HTMLModel",
          "state": {
            "_view_name": "HTMLView",
            "style": "IPY_MODEL_2802055011d7492ca018ae7d8cba5d83",
            "_dom_classes": [],
            "description": "",
            "_model_name": "HTMLModel",
            "placeholder": "​",
            "_view_module": "@jupyter-widgets/controls",
            "_model_module_version": "1.5.0",
            "value": " 436M/436M [00:44&lt;00:00, 9.74MB/s]",
            "_view_count": null,
            "_view_module_version": "1.5.0",
            "description_tooltip": null,
            "_model_module": "@jupyter-widgets/controls",
            "layout": "IPY_MODEL_7fbb804f0cac486eb3ba6e3054a3e07e"
          }
        },
        "27eb3f971b3e4f6790fe6569b2e8e5ab": {
          "model_module": "@jupyter-widgets/controls",
          "model_name": "ProgressStyleModel",
          "state": {
            "_view_name": "StyleView",
            "_model_name": "ProgressStyleModel",
            "description_width": "initial",
            "_view_module": "@jupyter-widgets/base",
            "_model_module_version": "1.5.0",
            "_view_count": null,
            "_view_module_version": "1.2.0",
            "bar_color": null,
            "_model_module": "@jupyter-widgets/controls"
          }
        },
        "d23069250cdf4cf7a661fb9f9f3643c5": {
          "model_module": "@jupyter-widgets/base",
          "model_name": "LayoutModel",
          "state": {
            "_view_name": "LayoutView",
            "grid_template_rows": null,
            "right": null,
            "justify_content": null,
            "_view_module": "@jupyter-widgets/base",
            "overflow": null,
            "_model_module_version": "1.2.0",
            "_view_count": null,
            "flex_flow": null,
            "width": null,
            "min_width": null,
            "border": null,
            "align_items": null,
            "bottom": null,
            "_model_module": "@jupyter-widgets/base",
            "top": null,
            "grid_column": null,
            "overflow_y": null,
            "overflow_x": null,
            "grid_auto_flow": null,
            "grid_area": null,
            "grid_template_columns": null,
            "flex": null,
            "_model_name": "LayoutModel",
            "justify_items": null,
            "grid_row": null,
            "max_height": null,
            "align_content": null,
            "visibility": null,
            "align_self": null,
            "height": null,
            "min_height": null,
            "padding": null,
            "grid_auto_rows": null,
            "grid_gap": null,
            "max_width": null,
            "order": null,
            "_view_module_version": "1.2.0",
            "grid_template_areas": null,
            "object_position": null,
            "object_fit": null,
            "grid_auto_columns": null,
            "margin": null,
            "display": null,
            "left": null
          }
        },
        "2802055011d7492ca018ae7d8cba5d83": {
          "model_module": "@jupyter-widgets/controls",
          "model_name": "DescriptionStyleModel",
          "state": {
            "_view_name": "StyleView",
            "_model_name": "DescriptionStyleModel",
            "description_width": "",
            "_view_module": "@jupyter-widgets/base",
            "_model_module_version": "1.5.0",
            "_view_count": null,
            "_view_module_version": "1.2.0",
            "_model_module": "@jupyter-widgets/controls"
          }
        },
        "7fbb804f0cac486eb3ba6e3054a3e07e": {
          "model_module": "@jupyter-widgets/base",
          "model_name": "LayoutModel",
          "state": {
            "_view_name": "LayoutView",
            "grid_template_rows": null,
            "right": null,
            "justify_content": null,
            "_view_module": "@jupyter-widgets/base",
            "overflow": null,
            "_model_module_version": "1.2.0",
            "_view_count": null,
            "flex_flow": null,
            "width": null,
            "min_width": null,
            "border": null,
            "align_items": null,
            "bottom": null,
            "_model_module": "@jupyter-widgets/base",
            "top": null,
            "grid_column": null,
            "overflow_y": null,
            "overflow_x": null,
            "grid_auto_flow": null,
            "grid_area": null,
            "grid_template_columns": null,
            "flex": null,
            "_model_name": "LayoutModel",
            "justify_items": null,
            "grid_row": null,
            "max_height": null,
            "align_content": null,
            "visibility": null,
            "align_self": null,
            "height": null,
            "min_height": null,
            "padding": null,
            "grid_auto_rows": null,
            "grid_gap": null,
            "max_width": null,
            "order": null,
            "_view_module_version": "1.2.0",
            "grid_template_areas": null,
            "object_position": null,
            "object_fit": null,
            "grid_auto_columns": null,
            "margin": null,
            "display": null,
            "left": null
          }
        }
      }
    }
  },
  "cells": [
    {
      "cell_type": "markdown",
      "metadata": {
        "id": "view-in-github",
        "colab_type": "text"
      },
      "source": [
        "<a href=\"https://colab.research.google.com/github/ShahedSabab/Blind-Reader/blob/master/sentiment_analysis.ipynb\" target=\"_parent\"><img src=\"https://colab.research.google.com/assets/colab-badge.svg\" alt=\"Open In Colab\"/></a>"
      ]
    },
    {
      "cell_type": "code",
      "metadata": {
        "id": "7dmNrXS1NDcV",
        "colab_type": "code",
        "outputId": "48ad9cb7-7e18-4958-9852-0dde83fb8438",
        "colab": {
          "base_uri": "https://localhost:8080/",
          "height": 663
        }
      },
      "source": [
        "!pip install transformers"
      ],
      "execution_count": 1,
      "outputs": [
        {
          "output_type": "stream",
          "text": [
            "Collecting transformers\n",
            "\u001b[?25l  Downloading https://files.pythonhosted.org/packages/a3/78/92cedda05552398352ed9784908b834ee32a0bd071a9b32de287327370b7/transformers-2.8.0-py3-none-any.whl (563kB)\n",
            "\u001b[K     |████████████████████████████████| 573kB 2.7MB/s \n",
            "\u001b[?25hRequirement already satisfied: numpy in /usr/local/lib/python3.6/dist-packages (from transformers) (1.18.3)\n",
            "Requirement already satisfied: filelock in /usr/local/lib/python3.6/dist-packages (from transformers) (3.0.12)\n",
            "Collecting sentencepiece\n",
            "\u001b[?25l  Downloading https://files.pythonhosted.org/packages/98/2c/8df20f3ac6c22ac224fff307ebc102818206c53fc454ecd37d8ac2060df5/sentencepiece-0.1.86-cp36-cp36m-manylinux1_x86_64.whl (1.0MB)\n",
            "\u001b[K     |████████████████████████████████| 1.0MB 6.0MB/s \n",
            "\u001b[?25hCollecting tokenizers==0.5.2\n",
            "\u001b[?25l  Downloading https://files.pythonhosted.org/packages/d1/3f/73c881ea4723e43c1e9acf317cf407fab3a278daab3a69c98dcac511c04f/tokenizers-0.5.2-cp36-cp36m-manylinux1_x86_64.whl (3.7MB)\n",
            "\u001b[K     |████████████████████████████████| 3.7MB 13.3MB/s \n",
            "\u001b[?25hRequirement already satisfied: boto3 in /usr/local/lib/python3.6/dist-packages (from transformers) (1.12.47)\n",
            "Requirement already satisfied: tqdm>=4.27 in /usr/local/lib/python3.6/dist-packages (from transformers) (4.38.0)\n",
            "Collecting sacremoses\n",
            "\u001b[?25l  Downloading https://files.pythonhosted.org/packages/99/50/93509f906a40bffd7d175f97fd75ea328ad9bd91f48f59c4bd084c94a25e/sacremoses-0.0.41.tar.gz (883kB)\n",
            "\u001b[K     |████████████████████████████████| 890kB 35.5MB/s \n",
            "\u001b[?25hRequirement already satisfied: dataclasses; python_version < \"3.7\" in /usr/local/lib/python3.6/dist-packages (from transformers) (0.7)\n",
            "Requirement already satisfied: requests in /usr/local/lib/python3.6/dist-packages (from transformers) (2.23.0)\n",
            "Requirement already satisfied: regex!=2019.12.17 in /usr/local/lib/python3.6/dist-packages (from transformers) (2019.12.20)\n",
            "Requirement already satisfied: botocore<1.16.0,>=1.15.47 in /usr/local/lib/python3.6/dist-packages (from boto3->transformers) (1.15.47)\n",
            "Requirement already satisfied: jmespath<1.0.0,>=0.7.1 in /usr/local/lib/python3.6/dist-packages (from boto3->transformers) (0.9.5)\n",
            "Requirement already satisfied: s3transfer<0.4.0,>=0.3.0 in /usr/local/lib/python3.6/dist-packages (from boto3->transformers) (0.3.3)\n",
            "Requirement already satisfied: six in /usr/local/lib/python3.6/dist-packages (from sacremoses->transformers) (1.12.0)\n",
            "Requirement already satisfied: click in /usr/local/lib/python3.6/dist-packages (from sacremoses->transformers) (7.1.2)\n",
            "Requirement already satisfied: joblib in /usr/local/lib/python3.6/dist-packages (from sacremoses->transformers) (0.14.1)\n",
            "Requirement already satisfied: chardet<4,>=3.0.2 in /usr/local/lib/python3.6/dist-packages (from requests->transformers) (3.0.4)\n",
            "Requirement already satisfied: certifi>=2017.4.17 in /usr/local/lib/python3.6/dist-packages (from requests->transformers) (2020.4.5.1)\n",
            "Requirement already satisfied: idna<3,>=2.5 in /usr/local/lib/python3.6/dist-packages (from requests->transformers) (2.9)\n",
            "Requirement already satisfied: urllib3!=1.25.0,!=1.25.1,<1.26,>=1.21.1 in /usr/local/lib/python3.6/dist-packages (from requests->transformers) (1.24.3)\n",
            "Requirement already satisfied: docutils<0.16,>=0.10 in /usr/local/lib/python3.6/dist-packages (from botocore<1.16.0,>=1.15.47->boto3->transformers) (0.15.2)\n",
            "Requirement already satisfied: python-dateutil<3.0.0,>=2.1 in /usr/local/lib/python3.6/dist-packages (from botocore<1.16.0,>=1.15.47->boto3->transformers) (2.8.1)\n",
            "Building wheels for collected packages: sacremoses\n",
            "  Building wheel for sacremoses (setup.py) ... \u001b[?25l\u001b[?25hdone\n",
            "  Created wheel for sacremoses: filename=sacremoses-0.0.41-cp36-none-any.whl size=893334 sha256=29265e4b4c6ce31de177bed9c6cb54ff731a4a2c3993a1930e97e7948e894446\n",
            "  Stored in directory: /root/.cache/pip/wheels/22/5a/d4/b020a81249de7dc63758a34222feaa668dbe8ebfe9170cc9b1\n",
            "Successfully built sacremoses\n",
            "Installing collected packages: sentencepiece, tokenizers, sacremoses, transformers\n",
            "Successfully installed sacremoses-0.0.41 sentencepiece-0.1.86 tokenizers-0.5.2 transformers-2.8.0\n"
          ],
          "name": "stdout"
        }
      ]
    },
    {
      "cell_type": "code",
      "metadata": {
        "id": "554u2zsMIsyc",
        "colab_type": "code",
        "outputId": "21b36c12-0bf8-43de-92c6-abdb3a799c3f",
        "colab": {
          "base_uri": "https://localhost:8080/",
          "height": 68
        }
      },
      "source": [
        "import transformers \n",
        "from transformers import BertModel, BertTokenizer, AdamW, get_linear_schedule_with_warmup\n",
        "import torch\n",
        "import pandas as pd\n",
        "import seaborn as sns\n",
        "import matplotlib.pyplot as plt\n",
        "import numpy as np\n",
        "from pylab import rcParams\n",
        "from matplotlib import rc\n",
        "from sklearn.model_selection import train_test_split\n",
        "from sklearn.metrics import confusion_matrix, classification_report\n",
        "from tqdm import tqdm\n",
        "from torch import nn, optim \n",
        "from torch.utils import data\n",
        "from collections import defaultdict\n",
        "from textwrap import wrap\n",
        "%matplotlib inline\n",
        "sns.set(style='whitegrid', palette='muted', font_scale=1.2)\n",
        "rcParams['figure.figsize'] = 12, 8\n",
        "RANDOM_SEED = 99\n",
        "np.random.seed(RANDOM_SEED)\n",
        "torch.manual_seed(RANDOM_SEED)"
      ],
      "execution_count": 2,
      "outputs": [
        {
          "output_type": "stream",
          "text": [
            "/usr/local/lib/python3.6/dist-packages/statsmodels/tools/_testing.py:19: FutureWarning: pandas.util.testing is deprecated. Use the functions in the public API at pandas.testing instead.\n",
            "  import pandas.util.testing as tm\n"
          ],
          "name": "stderr"
        },
        {
          "output_type": "execute_result",
          "data": {
            "text/plain": [
              "<torch._C.Generator at 0x7f048eaf4df0>"
            ]
          },
          "metadata": {
            "tags": []
          },
          "execution_count": 2
        }
      ]
    },
    {
      "cell_type": "markdown",
      "metadata": {
        "id": "HCidvPVlKkLg",
        "colab_type": "text"
      },
      "source": [
        "# Read and check data"
      ]
    },
    {
      "cell_type": "code",
      "metadata": {
        "id": "tI5dRQsvJtr1",
        "colab_type": "code",
        "outputId": "47ae1898-11c2-4a1b-a1f0-6f19ac4a3094",
        "colab": {
          "base_uri": "https://localhost:8080/",
          "height": 408
        }
      },
      "source": [
        "df = pd.read_csv('app_reviews.csv')\n",
        "df.head()"
      ],
      "execution_count": 3,
      "outputs": [
        {
          "output_type": "execute_result",
          "data": {
            "text/html": [
              "<div>\n",
              "<style scoped>\n",
              "    .dataframe tbody tr th:only-of-type {\n",
              "        vertical-align: middle;\n",
              "    }\n",
              "\n",
              "    .dataframe tbody tr th {\n",
              "        vertical-align: top;\n",
              "    }\n",
              "\n",
              "    .dataframe thead th {\n",
              "        text-align: right;\n",
              "    }\n",
              "</style>\n",
              "<table border=\"1\" class=\"dataframe\">\n",
              "  <thead>\n",
              "    <tr style=\"text-align: right;\">\n",
              "      <th></th>\n",
              "      <th>userName</th>\n",
              "      <th>userImage</th>\n",
              "      <th>content</th>\n",
              "      <th>score</th>\n",
              "      <th>thumbsUpCount</th>\n",
              "      <th>reviewCreatedVersion</th>\n",
              "      <th>at</th>\n",
              "      <th>replyContent</th>\n",
              "      <th>repliedAt</th>\n",
              "      <th>sortOrder</th>\n",
              "      <th>appId</th>\n",
              "    </tr>\n",
              "  </thead>\n",
              "  <tbody>\n",
              "    <tr>\n",
              "      <th>0</th>\n",
              "      <td>Daxle Collier</td>\n",
              "      <td>https://lh3.googleusercontent.com/-rivlmdNVmoU...</td>\n",
              "      <td>This is a very pretty app with the illusion of...</td>\n",
              "      <td>1</td>\n",
              "      <td>223</td>\n",
              "      <td>3.57.0</td>\n",
              "      <td>2020-04-22 23:42:06</td>\n",
              "      <td>NaN</td>\n",
              "      <td>NaN</td>\n",
              "      <td>most_relevant</td>\n",
              "      <td>com.getsomeheadspace.android</td>\n",
              "    </tr>\n",
              "    <tr>\n",
              "      <th>1</th>\n",
              "      <td>Hussam Fateen</td>\n",
              "      <td>https://lh3.googleusercontent.com/a-/AOh14Ghn4...</td>\n",
              "      <td>There's no \"Waking Up\" segment in the app. The...</td>\n",
              "      <td>1</td>\n",
              "      <td>38</td>\n",
              "      <td>3.57.0</td>\n",
              "      <td>2020-04-09 12:31:33</td>\n",
              "      <td>NaN</td>\n",
              "      <td>NaN</td>\n",
              "      <td>most_relevant</td>\n",
              "      <td>com.getsomeheadspace.android</td>\n",
              "    </tr>\n",
              "    <tr>\n",
              "      <th>2</th>\n",
              "      <td>Bo Brooks</td>\n",
              "      <td>https://lh3.googleusercontent.com/a-/AOh14GhDn...</td>\n",
              "      <td>I am on a yearly subscription and since the la...</td>\n",
              "      <td>1</td>\n",
              "      <td>72</td>\n",
              "      <td>3.57.0</td>\n",
              "      <td>2020-04-07 01:09:34</td>\n",
              "      <td>NaN</td>\n",
              "      <td>NaN</td>\n",
              "      <td>most_relevant</td>\n",
              "      <td>com.getsomeheadspace.android</td>\n",
              "    </tr>\n",
              "    <tr>\n",
              "      <th>3</th>\n",
              "      <td>Staci Thomas</td>\n",
              "      <td>https://lh3.googleusercontent.com/-m4z-sbErDeg...</td>\n",
              "      <td>I loved this app for the three weeks that I ha...</td>\n",
              "      <td>1</td>\n",
              "      <td>41</td>\n",
              "      <td>3.57.0</td>\n",
              "      <td>2020-04-25 10:00:07</td>\n",
              "      <td>Sorry for the trouble logging in! Please send ...</td>\n",
              "      <td>2020-04-25 16:33:39</td>\n",
              "      <td>most_relevant</td>\n",
              "      <td>com.getsomeheadspace.android</td>\n",
              "    </tr>\n",
              "    <tr>\n",
              "      <th>4</th>\n",
              "      <td>Beezus Peterson-Presley</td>\n",
              "      <td>https://lh3.googleusercontent.com/a-/AOh14GjrL...</td>\n",
              "      <td>1st of all...the app gives you the option of c...</td>\n",
              "      <td>1</td>\n",
              "      <td>128</td>\n",
              "      <td>3.57.0</td>\n",
              "      <td>2020-04-14 20:29:05</td>\n",
              "      <td>NaN</td>\n",
              "      <td>NaN</td>\n",
              "      <td>most_relevant</td>\n",
              "      <td>com.getsomeheadspace.android</td>\n",
              "    </tr>\n",
              "  </tbody>\n",
              "</table>\n",
              "</div>"
            ],
            "text/plain": [
              "                  userName  ...                         appId\n",
              "0            Daxle Collier  ...  com.getsomeheadspace.android\n",
              "1            Hussam Fateen  ...  com.getsomeheadspace.android\n",
              "2                Bo Brooks  ...  com.getsomeheadspace.android\n",
              "3             Staci Thomas  ...  com.getsomeheadspace.android\n",
              "4  Beezus Peterson-Presley  ...  com.getsomeheadspace.android\n",
              "\n",
              "[5 rows x 11 columns]"
            ]
          },
          "metadata": {
            "tags": []
          },
          "execution_count": 3
        }
      ]
    },
    {
      "cell_type": "code",
      "metadata": {
        "id": "Rl7w2mtkKG2s",
        "colab_type": "code",
        "outputId": "66220245-25f0-4c3c-bee0-c67d39322339",
        "colab": {
          "base_uri": "https://localhost:8080/",
          "height": 323
        }
      },
      "source": [
        "df.info()"
      ],
      "execution_count": 4,
      "outputs": [
        {
          "output_type": "stream",
          "text": [
            "<class 'pandas.core.frame.DataFrame'>\n",
            "RangeIndex: 11976 entries, 0 to 11975\n",
            "Data columns (total 11 columns):\n",
            " #   Column                Non-Null Count  Dtype \n",
            "---  ------                --------------  ----- \n",
            " 0   userName              11976 non-null  object\n",
            " 1   userImage             11976 non-null  object\n",
            " 2   content               11976 non-null  object\n",
            " 3   score                 11976 non-null  int64 \n",
            " 4   thumbsUpCount         11976 non-null  int64 \n",
            " 5   reviewCreatedVersion  10988 non-null  object\n",
            " 6   at                    11976 non-null  object\n",
            " 7   replyContent          3484 non-null   object\n",
            " 8   repliedAt             3484 non-null   object\n",
            " 9   sortOrder             11976 non-null  object\n",
            " 10  appId                 11976 non-null  object\n",
            "dtypes: int64(2), object(9)\n",
            "memory usage: 1.0+ MB\n"
          ],
          "name": "stdout"
        }
      ]
    },
    {
      "cell_type": "code",
      "metadata": {
        "id": "eygu-iOdKa86",
        "colab_type": "code",
        "outputId": "d29d444e-9881-4859-b611-8f30c4aa5cdb",
        "colab": {
          "base_uri": "https://localhost:8080/",
          "height": 523
        }
      },
      "source": [
        "sns.countplot(df.score)\n",
        "plt.xlabel('review score')"
      ],
      "execution_count": 5,
      "outputs": [
        {
          "output_type": "execute_result",
          "data": {
            "text/plain": [
              "Text(0.5, 0, 'review score')"
            ]
          },
          "metadata": {
            "tags": []
          },
          "execution_count": 5
        },
        {
          "output_type": "display_data",
          "data": {
            "image/png": "[encoded data removed]",
            "text/plain": [
              "<Figure size 864x576 with 1 Axes>"
            ]
          },
          "metadata": {
            "tags": []
          }
        }
      ]
    },
    {
      "cell_type": "markdown",
      "metadata": {
        "id": "UpsqhHuVMvKe",
        "colab_type": "text"
      },
      "source": [
        "# Grop negative and positive sentiment"
      ]
    },
    {
      "cell_type": "code",
      "metadata": {
        "id": "HzhBVL1rK7J7",
        "colab_type": "code",
        "colab": {}
      },
      "source": [
        "def groupRating(rating):\n",
        "  grp_rating = -1\n",
        "  rating = int(rating)\n",
        "  if rating > 3:\n",
        "    grp_rating = 2\n",
        "  elif rating == 3:\n",
        "    grp_rating = 1\n",
        "  else:\n",
        "    grp_rating = 0\n",
        "  return grp_rating"
      ],
      "execution_count": 0,
      "outputs": []
    },
    {
      "cell_type": "code",
      "metadata": {
        "id": "lviAJybXMJmF",
        "colab_type": "code",
        "colab": {}
      },
      "source": [
        "df['sentiment'] = df.score.apply(groupRating)"
      ],
      "execution_count": 0,
      "outputs": []
    },
    {
      "cell_type": "code",
      "metadata": {
        "id": "Wufxen1yMW8h",
        "colab_type": "code",
        "outputId": "8fe1d42c-7624-461b-e640-8db9ba8f9c9f",
        "colab": {
          "base_uri": "https://localhost:8080/",
          "height": 523
        }
      },
      "source": [
        "class_names = ['negative', 'neutral', 'positive']\n",
        "ax = sns.countplot(df.sentiment)\n",
        "plt.xlabel('sentiment')\n",
        "ax.set_xticklabels(class_names)"
      ],
      "execution_count": 8,
      "outputs": [
        {
          "output_type": "execute_result",
          "data": {
            "text/plain": [
              "[Text(0, 0, 'negative'), Text(0, 0, 'neutral'), Text(0, 0, 'positive')]"
            ]
          },
          "metadata": {
            "tags": []
          },
          "execution_count": 8
        },
        {
          "output_type": "display_data",
          "data": {
            "image/png": "[encoded data removed]",
            "text/plain": [
              "<Figure size 864x576 with 1 Axes>"
            ]
          },
          "metadata": {
            "tags": []
          }
        }
      ]
    },
    {
      "cell_type": "markdown",
      "metadata": {
        "id": "UCqLlhKmPDoq",
        "colab_type": "text"
      },
      "source": [
        "# Background for processing"
      ]
    },
    {
      "cell_type": "code",
      "metadata": {
        "id": "21vtgRjxMXlC",
        "colab_type": "code",
        "outputId": "847bbc49-74bb-46f4-fa9e-6cc7263ea304",
        "colab": {
          "base_uri": "https://localhost:8080/",
          "height": 66,
          "referenced_widgets": [
            "c76da9eeda944d1ea2947aee3b2c66be",
            "d0c366c508cd478e9a3195bbeb1c0025",
            "b63d7e2edc6e4a63832974ef5e445874",
            "2c50fecfa43b4ba597e03a93aa0765e9",
            "65c4ca8e9e3a4b859ea2608a2f2060df",
            "1cffc92b4baf44bca5fadc2466c852cb",
            "0d5ebb95e7d4468c9cc3670562bdd0b7",
            "e2ecc769605447899bf47b88d212535c"
          ]
        }
      },
      "source": [
        "#download pretrained tokenizer from bert\n",
        "tokenizer = transformers.BertTokenizer.from_pretrained('bert-base-cased')"
      ],
      "execution_count": 9,
      "outputs": [
        {
          "output_type": "display_data",
          "data": {
            "application/vnd.jupyter.widget-view+json": {
              "model_id": "c76da9eeda944d1ea2947aee3b2c66be",
              "version_minor": 0,
              "version_major": 2
            },
            "text/plain": [
              "HBox(children=(IntProgress(value=0, description='Downloading', max=213450, style=ProgressStyle(description_wid…"
            ]
          },
          "metadata": {
            "tags": []
          }
        },
        {
          "output_type": "stream",
          "text": [
            "\n"
          ],
          "name": "stdout"
        }
      ]
    },
    {
      "cell_type": "code",
      "metadata": {
        "id": "WYrpsE38PoPu",
        "colab_type": "code",
        "colab": {}
      },
      "source": [
        "sample_text = \"Just a test sentence. Test 2.\"\n",
        "tokens = tokenizer.tokenize(sample_text)\n",
        "token_ids = tokenizer.convert_tokens_to_ids(tokens)"
      ],
      "execution_count": 0,
      "outputs": []
    },
    {
      "cell_type": "code",
      "metadata": {
        "id": "rvTwj3omQgXl",
        "colab_type": "code",
        "outputId": "1793b87f-0552-42a9-880a-91c1eaab9dd7",
        "colab": {
          "base_uri": "https://localhost:8080/",
          "height": 68
        }
      },
      "source": [
        "print(f'Sample Text:{sample_text}')\n",
        "print(f'Tokens     :{tokens}')\n",
        "print(f'Token IDs  :{token_ids}')"
      ],
      "execution_count": 11,
      "outputs": [
        {
          "output_type": "stream",
          "text": [
            "Sample Text:Just a test sentence. Test 2.\n",
            "Tokens     :['Just', 'a', 'test', 'sentence', '.', 'Test', '2', '.']\n",
            "Token IDs  :[2066, 170, 2774, 5650, 119, 5960, 123, 119]\n"
          ],
          "name": "stdout"
        }
      ]
    },
    {
      "cell_type": "code",
      "metadata": {
        "id": "zZ23fdPJQpNi",
        "colab_type": "code",
        "outputId": "43e7ec4d-de20-40f2-adc1-df3eaecb155b",
        "colab": {
          "base_uri": "https://localhost:8080/",
          "height": 119
        }
      },
      "source": [
        "print(f'\\t   Special Tokens')\n",
        "print(f'-'*40)\n",
        "print(f'     Separator Token:{tokenizer.sep_token} id:{tokenizer.sep_token_id}')\n",
        "print(f'Classification Token:{tokenizer.cls_token} id:{tokenizer.cls_token_id}')\n",
        "print(f'       Padding Token:{tokenizer.pad_token} id:{tokenizer.pad_token_id}')\n",
        "print(f'       Unknown Token:{tokenizer.unk_token} id:{tokenizer.unk_token_id}')"
      ],
      "execution_count": 12,
      "outputs": [
        {
          "output_type": "stream",
          "text": [
            "\t   Special Tokens\n",
            "----------------------------------------\n",
            "     Separator Token:[SEP] id:102\n",
            "Classification Token:[CLS] id:101\n",
            "       Padding Token:[PAD] id:0\n",
            "       Unknown Token:[UNK] id:100\n"
          ],
          "name": "stdout"
        }
      ]
    },
    {
      "cell_type": "code",
      "metadata": {
        "id": "GDDlqK51Q_PW",
        "colab_type": "code",
        "outputId": "0ffb28a1-1d56-4fe0-f792-09f30485278e",
        "colab": {
          "base_uri": "https://localhost:8080/",
          "height": 102
        }
      },
      "source": [
        "encoding = tokenizer.encode_plus(\n",
        "    sample_text,\n",
        "    max_length = 32,\n",
        "    add_special_tokens=True,\n",
        "    pad_to_max_length = True,\n",
        "    return_attention_mask = True,\n",
        "    return_token_type_ids=False,\n",
        "    return_tensors='pt'\n",
        ")\n",
        "encoding"
      ],
      "execution_count": 13,
      "outputs": [
        {
          "output_type": "execute_result",
          "data": {
            "text/plain": [
              "{'attention_mask': tensor([[1, 1, 1, 1, 1, 1, 1, 1, 1, 1, 0, 0, 0, 0, 0, 0, 0, 0, 0, 0, 0, 0, 0, 0,\n",
              "          0, 0, 0, 0, 0, 0, 0, 0]]),\n",
              " 'input_ids': tensor([[ 101, 2066,  170, 2774, 5650,  119, 5960,  123,  119,  102,    0,    0,\n",
              "             0,    0,    0,    0,    0,    0,    0,    0,    0,    0,    0,    0,\n",
              "             0,    0,    0,    0,    0,    0,    0,    0]])}"
            ]
          },
          "metadata": {
            "tags": []
          },
          "execution_count": 13
        }
      ]
    },
    {
      "cell_type": "markdown",
      "metadata": {
        "id": "wxkfhwGnVE4Z",
        "colab_type": "text"
      },
      "source": [
        "# Data processing"
      ]
    },
    {
      "cell_type": "code",
      "metadata": {
        "id": "cCt6xvyEUfq_",
        "colab_type": "code",
        "colab": {}
      },
      "source": [
        "token_length=[]\n",
        "for content in df.content:\n",
        "  tokens = tokenizer.encode(content)\n",
        "  token_length.append(len(tokens))"
      ],
      "execution_count": 0,
      "outputs": []
    },
    {
      "cell_type": "code",
      "metadata": {
        "id": "9VCO_HloV1P5",
        "colab_type": "code",
        "outputId": "c1d4fcbf-c485-4652-acc6-40d667371615",
        "colab": {
          "base_uri": "https://localhost:8080/",
          "height": 527
        }
      },
      "source": [
        "#check content's length distribution\n",
        "ax = sns.distplot(token_length)\n",
        "plt.xlim([0, 200]);\n",
        "plt.xlabel('length')"
      ],
      "execution_count": 15,
      "outputs": [
        {
          "output_type": "execute_result",
          "data": {
            "text/plain": [
              "Text(0.5, 0, 'length')"
            ]
          },
          "metadata": {
            "tags": []
          },
          "execution_count": 15
        },
        {
          "output_type": "display_data",
          "data": {
            "image/png": "[encoded data removed]",
            "text/plain": [
              "<Figure size 864x576 with 1 Axes>"
            ]
          },
          "metadata": {
            "tags": []
          }
        }
      ]
    },
    {
      "cell_type": "markdown",
      "metadata": {
        "id": "yebvv3TwWoB_",
        "colab_type": "text"
      },
      "source": [
        "# Create a Dataset"
      ]
    },
    {
      "cell_type": "code",
      "metadata": {
        "id": "RGzUk9RPV8P7",
        "colab_type": "code",
        "colab": {}
      },
      "source": [
        "class reviewDataset(data.Dataset):\n",
        "  def __init__(self, review, targets, tokenizer, max_len):\n",
        "    self.review = review\n",
        "    self.targets = targets\n",
        "    self.tokenizer = tokenizer\n",
        "    self.max_len = max_len\n",
        "\n",
        "  def __len__(self):\n",
        "    return len(self.review)\n",
        "\n",
        "  def __getitem__(self, item):\n",
        "    review = str(self.review[item])\n",
        "    encoding = tokenizer.encode_plus(\n",
        "      review,\n",
        "      max_length = self.max_len,\n",
        "      add_special_tokens=True,\n",
        "      pad_to_max_length = True,\n",
        "      return_attention_mask = True,\n",
        "      return_token_type_ids=False,\n",
        "      return_tensors='pt'\n",
        "    )\n",
        "    return {\n",
        "        'review_text': review,\n",
        "        'input_ids': encoding['input_ids'].flatten(),\n",
        "        'attention_mask': encoding['attention_mask'].flatten(),\n",
        "        'targets': torch.tensor(self.targets[item], dtype = torch.long)\n",
        "    }\n",
        "\n"
      ],
      "execution_count": 0,
      "outputs": []
    },
    {
      "cell_type": "markdown",
      "metadata": {
        "id": "2_yDFXC6JxNl",
        "colab_type": "text"
      },
      "source": [
        "# Initialization"
      ]
    },
    {
      "cell_type": "code",
      "metadata": {
        "id": "cXe5dSMAiJLD",
        "colab_type": "code",
        "colab": {}
      },
      "source": [
        "# max length is set by considering the length distribution\n",
        "MAX_LENGTH = 150\n",
        "BATCH_SIZE = 16\n",
        "EPOCHS = 40\n",
        "LEARNING_RATE = 2e-5"
      ],
      "execution_count": 0,
      "outputs": []
    },
    {
      "cell_type": "markdown",
      "metadata": {
        "id": "BfWPWJlcJtC9",
        "colab_type": "text"
      },
      "source": [
        "# Train-test-val split"
      ]
    },
    {
      "cell_type": "code",
      "metadata": {
        "id": "D5MXvJqWibrr",
        "colab_type": "code",
        "colab": {}
      },
      "source": [
        "df_train, df_test = train_test_split(df, test_size = 0.1, random_state=RANDOM_SEED)\n",
        "df_val, df_test = train_test_split(df_test, test_size = 0.5, random_state=RANDOM_SEED)"
      ],
      "execution_count": 0,
      "outputs": []
    },
    {
      "cell_type": "code",
      "metadata": {
        "id": "IGnwp09kjPDK",
        "colab_type": "code",
        "colab": {}
      },
      "source": [
        "def create_data_loader(df, tokenizer, max_len, batch_size):\n",
        "  ds = reviewDataset(\n",
        "      review = df.content.to_numpy(),\n",
        "      targets = df.sentiment.to_numpy(),\n",
        "      tokenizer = tokenizer,\n",
        "      max_len = max_len\n",
        "  )\n",
        "\n",
        "  return data.DataLoader(\n",
        "      ds,\n",
        "      batch_size = batch_size,\n",
        "      num_workers = 4\n",
        "  )"
      ],
      "execution_count": 0,
      "outputs": []
    },
    {
      "cell_type": "code",
      "metadata": {
        "id": "2LWfz7q9jk2u",
        "colab_type": "code",
        "colab": {}
      },
      "source": [
        "train_data_loader = create_data_loader(df_train, tokenizer, MAX_LENGTH, BATCH_SIZE)\n",
        "test_data_loader = create_data_loader(df_test, tokenizer, MAX_LENGTH, BATCH_SIZE)\n",
        "val_data_loader = create_data_loader(df_val, tokenizer, MAX_LENGTH, BATCH_SIZE)"
      ],
      "execution_count": 0,
      "outputs": []
    },
    {
      "cell_type": "code",
      "metadata": {
        "id": "ZmMWfYhlkh-f",
        "colab_type": "code",
        "outputId": "0d1d01ce-5244-42b8-d6c1-a65644b4ba84",
        "colab": {
          "base_uri": "https://localhost:8080/",
          "height": 68
        }
      },
      "source": [
        "data = next(iter(train_data_loader))\n",
        "print(data['input_ids'].shape)\n",
        "print(data['attention_mask'].shape)\n",
        "print(data['targets'].shape)"
      ],
      "execution_count": 21,
      "outputs": [
        {
          "output_type": "stream",
          "text": [
            "torch.Size([16, 150])\n",
            "torch.Size([16, 150])\n",
            "torch.Size([16])\n"
          ],
          "name": "stdout"
        }
      ]
    },
    {
      "cell_type": "markdown",
      "metadata": {
        "id": "3lBSg5ORel6_",
        "colab_type": "text"
      },
      "source": [
        "# Define Bert Model"
      ]
    },
    {
      "cell_type": "code",
      "metadata": {
        "id": "QYxfU002krX9",
        "colab_type": "code",
        "outputId": "bb938e9e-1a8b-48e1-f4d4-450299050f52",
        "colab": {
          "base_uri": "https://localhost:8080/",
          "height": 115,
          "referenced_widgets": [
            "bb15398cf40c40c09bb0625665d514ac",
            "9b10efc6ba5a45e5b7b75869deb14a5a",
            "2d8778fbf0af4fc9a83262d624a8fa88",
            "2abf887f51ff4f04ae04f513d576af9d",
            "1b57f9b73a6e4a8b8e47bbea1131a788",
            "6b32880c31254a60a9da83bcd40b593f",
            "eef99d8169fe448ebd59afbf112fe9c0",
            "8a6a7d164eae491bbc1286c2a59f0185",
            "2a6daad2f9c34bdeb81ef6d94c516041",
            "fc51182f96b145cdab6f09727816072f",
            "2dfe898a66a64559b80881a081f24bd7",
            "535adfbebfab41f580b4d6bef7098936",
            "27eb3f971b3e4f6790fe6569b2e8e5ab",
            "d23069250cdf4cf7a661fb9f9f3643c5",
            "2802055011d7492ca018ae7d8cba5d83",
            "7fbb804f0cac486eb3ba6e3054a3e07e"
          ]
        }
      },
      "source": [
        "bert_model = BertModel.from_pretrained(\"bert-base-cased\")"
      ],
      "execution_count": 22,
      "outputs": [
        {
          "output_type": "display_data",
          "data": {
            "application/vnd.jupyter.widget-view+json": {
              "model_id": "bb15398cf40c40c09bb0625665d514ac",
              "version_minor": 0,
              "version_major": 2
            },
            "text/plain": [
              "HBox(children=(IntProgress(value=0, description='Downloading', max=433, style=ProgressStyle(description_width=…"
            ]
          },
          "metadata": {
            "tags": []
          }
        },
        {
          "output_type": "stream",
          "text": [
            "\n"
          ],
          "name": "stdout"
        },
        {
          "output_type": "display_data",
          "data": {
            "application/vnd.jupyter.widget-view+json": {
              "model_id": "2a6daad2f9c34bdeb81ef6d94c516041",
              "version_minor": 0,
              "version_major": 2
            },
            "text/plain": [
              "HBox(children=(IntProgress(value=0, description='Downloading', max=435779157, style=ProgressStyle(description_…"
            ]
          },
          "metadata": {
            "tags": []
          }
        },
        {
          "output_type": "stream",
          "text": [
            "\n"
          ],
          "name": "stdout"
        }
      ]
    },
    {
      "cell_type": "code",
      "metadata": {
        "id": "1Th9LkNIfF5V",
        "colab_type": "code",
        "colab": {}
      },
      "source": [
        "last_hidden_state, pooled_output = bert_model(\n",
        "    input_ids = encoding['input_ids'],\n",
        "    attention_mask = encoding['attention_mask']\n",
        "    )"
      ],
      "execution_count": 0,
      "outputs": []
    },
    {
      "cell_type": "code",
      "metadata": {
        "id": "wW6OZSIcfl98",
        "colab_type": "code",
        "outputId": "bedf506a-ede3-466c-c968-5a291b2dd13f",
        "colab": {
          "base_uri": "https://localhost:8080/",
          "height": 34
        }
      },
      "source": [
        "last_hidden_state.shape"
      ],
      "execution_count": 24,
      "outputs": [
        {
          "output_type": "execute_result",
          "data": {
            "text/plain": [
              "torch.Size([1, 32, 768])"
            ]
          },
          "metadata": {
            "tags": []
          },
          "execution_count": 24
        }
      ]
    },
    {
      "cell_type": "code",
      "metadata": {
        "id": "GnruP8FpfxK8",
        "colab_type": "code",
        "outputId": "f98b9079-53b1-4c21-d90e-c661b47c0e8a",
        "colab": {
          "base_uri": "https://localhost:8080/",
          "height": 34
        }
      },
      "source": [
        "pooled_output.shape"
      ],
      "execution_count": 25,
      "outputs": [
        {
          "output_type": "execute_result",
          "data": {
            "text/plain": [
              "torch.Size([1, 768])"
            ]
          },
          "metadata": {
            "tags": []
          },
          "execution_count": 25
        }
      ]
    },
    {
      "cell_type": "markdown",
      "metadata": {
        "id": "IqjCCyESgXWU",
        "colab_type": "text"
      },
      "source": [
        "# Sentiment Classifier Model"
      ]
    },
    {
      "cell_type": "code",
      "metadata": {
        "id": "hWqNVE_1f0aD",
        "colab_type": "code",
        "colab": {}
      },
      "source": [
        "class SentimentClassifier(nn.Module):\n",
        "  def __init__(self, n_classes):\n",
        "    super(SentimentClassifier, self).__init__()\n",
        "    self.bert = BertModel.from_pretrained(\"bert-base-cased\")\n",
        "    self.drop1 = nn.Dropout()\n",
        "    self.fc1 = nn.Linear(self.bert.config.hidden_size, 100)\n",
        "    self.fc2 = nn.Linear(100, n_classes)\n",
        "    self.softmax = nn.Softmax(dim=1)\n",
        "  \n",
        "  def forward(self, input_ids, attention_mask):\n",
        "    _, pooled_output = self.bert(\n",
        "        input_ids = input_ids,\n",
        "        attention_mask = attention_mask\n",
        "    )\n",
        "    output = self.drop1(pooled_output)\n",
        "    output = self.fc1(output)\n",
        "    output = self.fc2(output)\n",
        "    return self.softmax(output)"
      ],
      "execution_count": 0,
      "outputs": []
    },
    {
      "cell_type": "code",
      "metadata": {
        "id": "JeQVtwu3GXoO",
        "colab_type": "code",
        "colab": {}
      },
      "source": [
        "device = torch.device(\"cuda:0\" if torch.cuda.is_available() else \"cpu\")\n",
        "model = SentimentClassifier(len(class_names))\n",
        "model = model.to(device)"
      ],
      "execution_count": 0,
      "outputs": []
    },
    {
      "cell_type": "code",
      "metadata": {
        "id": "ndkq3QHQGr6J",
        "colab_type": "code",
        "outputId": "5eb98d53-1a8e-4904-aaf8-a39d64044c2c",
        "colab": {
          "base_uri": "https://localhost:8080/",
          "height": 51
        }
      },
      "source": [
        "input_ids = data['input_ids'].to(device)\n",
        "attention_mask = data['attention_mask'].to(device)\n",
        "\n",
        "#batch-size & max token length\n",
        "print(input_ids.shape)\n",
        "print(attention_mask.shape)"
      ],
      "execution_count": 28,
      "outputs": [
        {
          "output_type": "stream",
          "text": [
            "torch.Size([16, 150])\n",
            "torch.Size([16, 150])\n"
          ],
          "name": "stdout"
        }
      ]
    },
    {
      "cell_type": "code",
      "metadata": {
        "id": "Rk2UTe7cHmC7",
        "colab_type": "code",
        "outputId": "181f45c6-e5a4-43d9-ab08-e87e36166a20",
        "colab": {
          "base_uri": "https://localhost:8080/",
          "height": 289
        }
      },
      "source": [
        "model(input_ids, attention_mask)"
      ],
      "execution_count": 29,
      "outputs": [
        {
          "output_type": "execute_result",
          "data": {
            "text/plain": [
              "tensor([[0.3361, 0.4137, 0.2502],\n",
              "        [0.2745, 0.3456, 0.3799],\n",
              "        [0.2804, 0.4309, 0.2887],\n",
              "        [0.4472, 0.3940, 0.1588],\n",
              "        [0.3675, 0.4281, 0.2044],\n",
              "        [0.2466, 0.6008, 0.1527],\n",
              "        [0.3976, 0.3158, 0.2866],\n",
              "        [0.3891, 0.3447, 0.2662],\n",
              "        [0.3401, 0.3406, 0.3193],\n",
              "        [0.3681, 0.4142, 0.2177],\n",
              "        [0.4020, 0.4413, 0.1568],\n",
              "        [0.2672, 0.4823, 0.2505],\n",
              "        [0.2870, 0.4880, 0.2250],\n",
              "        [0.3541, 0.3966, 0.2493],\n",
              "        [0.3149, 0.4463, 0.2388],\n",
              "        [0.3640, 0.3653, 0.2707]], device='cuda:0', grad_fn=<SoftmaxBackward>)"
            ]
          },
          "metadata": {
            "tags": []
          },
          "execution_count": 29
        }
      ]
    },
    {
      "cell_type": "markdown",
      "metadata": {
        "id": "T_6LlW6EIC0O",
        "colab_type": "text"
      },
      "source": [
        "# Training Process"
      ]
    },
    {
      "cell_type": "code",
      "metadata": {
        "id": "BXDOpShkH4M9",
        "colab_type": "code",
        "colab": {}
      },
      "source": [
        "#original Bert used AdamW: Adam algorithm with weight decay fix\n",
        "optimizer = AdamW(model.parameters(), lr = LEARNING_RATE, correct_bias=False)\n",
        "total_step = len(train_data_loader) * EPOCHS\n",
        "\n",
        "#adjust learning rate\n",
        "scheduler = get_linear_schedule_with_warmup(\n",
        "    optimizer,\n",
        "    num_warmup_steps = 0,\n",
        "    num_training_steps = total_step\n",
        ")\n",
        "\n",
        "#define loss function\n",
        "loss_fn = nn.CrossEntropyLoss().to(device)"
      ],
      "execution_count": 0,
      "outputs": []
    },
    {
      "cell_type": "code",
      "metadata": {
        "id": "8fT7ZOXPJTdU",
        "colab_type": "code",
        "colab": {}
      },
      "source": [
        "def train_epoch(model, data_loader, loss_fn, optimizer, device, scheduler, n_examples):\n",
        "  model = model.train()\n",
        "  losses = []\n",
        "  correct_prediction = 0\n",
        "\n",
        "  for d in data_loader:\n",
        "    input_ids = d['input_ids'].to(device)\n",
        "    attention_mask = d['attention_mask'].to(device)\n",
        "    targets = d['targets'].to(device)\n",
        "    outputs = model(\n",
        "        input_ids = input_ids,\n",
        "        attention_mask = attention_mask\n",
        "    )\n",
        "\n",
        "    _, preds = torch.max(outputs, dim = 1)\n",
        "    loss = loss_fn(outputs, targets)\n",
        "\n",
        "    correct_prediction += torch.sum(preds == targets)\n",
        "    losses.append(loss.item())\n",
        "\n",
        "    loss.backward()\n",
        "    nn.utils.clip_grad_norm_(model.parameters(), max_norm=1.0)\n",
        "    optimizer.step()\n",
        "    scheduler.step()\n",
        "    optimizer.zero_grad()\n",
        "  return correct_prediction.double() / n_examples, np.mean(losses)\n"
      ],
      "execution_count": 0,
      "outputs": []
    },
    {
      "cell_type": "code",
      "metadata": {
        "id": "Ub_1qI-WLWC7",
        "colab_type": "code",
        "colab": {}
      },
      "source": [
        "def eval_model(model, data_loader, loss_fn, device, n_examples):\n",
        "  model.eval()\n",
        "  losses = []\n",
        "  correct_prediction = 0\n",
        "  with torch.no_grad():\n",
        "    for d in data_loader:\n",
        "      input_ids = d['input_ids'].to(device)\n",
        "      attention_mask = d['attention_mask'].to(device)\n",
        "      targets = d['targets'].to(device)\n",
        "      outputs = model(\n",
        "          input_ids = input_ids,\n",
        "          attention_mask = attention_mask\n",
        "      )\n",
        "\n",
        "      _, preds = torch.max(outputs, dim = 1)\n",
        "      loss = loss_fn(outputs, targets)\n",
        "\n",
        "      correct_prediction += torch.sum(preds == targets)\n",
        "      losses.append(loss.item())\n",
        "  return correct_prediction.double() / n_examples, np.mean(losses)\n"
      ],
      "execution_count": 0,
      "outputs": []
    },
    {
      "cell_type": "code",
      "metadata": {
        "id": "qnN7v_qiM4vX",
        "colab_type": "code",
        "outputId": "76f40e1a-4886-496f-e68a-e9299ffcb0c6",
        "colab": {
          "base_uri": "https://localhost:8080/",
          "height": 1000
        }
      },
      "source": [
        "%%time\n",
        "\n",
        "history = defaultdict(list)\n",
        "best_accuracy = 0\n",
        "\n",
        "for epoch in range(EPOCHS):\n",
        "  print(f'Epoch {epoch+1}/{EPOCHS}')\n",
        "  print('-' * 10)\n",
        "  train_acc, train_loss = train_epoch(model, train_data_loader, loss_fn, optimizer, device, scheduler, len(df_train))\n",
        "  print(f'Train loss {train_loss} Train accuracy {train_acc}')\n",
        "\n",
        "  val_acc, val_loss = eval_model(model, val_data_loader, loss_fn, device, len(df_val))\n",
        "  print(f'Val loss {val_loss} Val accuracy {val_acc}')\n",
        "  print()\n",
        "\n",
        "  history['train_acc'].append(train_acc)\n",
        "  history['train_loss'].append(train_loss)\n",
        "\n",
        "  history['val_acc'].append(val_acc)\n",
        "  history['val_loss'].append(val_loss)\n",
        "\n",
        "  if val_acc > best_accuracy:\n",
        "    torch.save(model.state_dict(), 'model.bin')\n",
        "    best_accuracy = val_acc"
      ],
      "execution_count": 33,
      "outputs": [
        {
          "output_type": "stream",
          "text": [
            "Epoch 1/40\n",
            "----------\n"
          ],
          "name": "stdout"
        },
        {
          "output_type": "stream",
          "text": [
            "/pytorch/torch/csrc/utils/python_arg_parser.cpp:756: UserWarning: This overload of add_ is deprecated:\n",
            "\tadd_(Number alpha, Tensor other)\n",
            "Consider using one of the following signatures instead:\n",
            "\tadd_(Tensor other, *, Number alpha)\n"
          ],
          "name": "stderr"
        },
        {
          "output_type": "stream",
          "text": [
            "Train loss 0.9305590206331599 Train accuracy 0.5988123956207089\n",
            "Val loss 0.8818289229744359 Val accuracy 0.6444073455759599\n",
            "\n",
            "Epoch 2/40\n",
            "----------\n",
            "Train loss 0.8090376990131525 Train accuracy 0.73622193356838\n",
            "Val loss 0.8461066468765861 Val accuracy 0.6961602671118531\n",
            "\n",
            "Epoch 3/40\n",
            "----------\n",
            "Train loss 0.7438108129565015 Train accuracy 0.8061792540359992\n",
            "Val loss 0.8275917831220125 Val accuracy 0.7195325542570952\n",
            "\n",
            "Epoch 4/40\n",
            "----------\n",
            "Train loss 0.720367973653782 Train accuracy 0.8293746520690295\n",
            "Val loss 0.8322581742939196 Val accuracy 0.7128547579298832\n",
            "\n",
            "Epoch 5/40\n",
            "----------\n",
            "Train loss 0.7039427814745408 Train accuracy 0.8460753386528113\n",
            "Val loss 0.803064901577799 Val accuracy 0.7412353923205343\n",
            "\n",
            "Epoch 6/40\n",
            "----------\n",
            "Train loss 0.6910693598607174 Train accuracy 0.8590647615513082\n",
            "Val loss 0.8093251664387552 Val accuracy 0.7429048414023373\n",
            "\n",
            "Epoch 7/40\n",
            "----------\n",
            "Train loss 0.6818435207141966 Train accuracy 0.8687140471330488\n",
            "Val loss 0.8014889108507257 Val accuracy 0.7429048414023373\n",
            "\n",
            "Epoch 8/40\n",
            "----------\n",
            "Train loss 0.6789066684529053 Train accuracy 0.871961402857673\n",
            "Val loss 0.7865100597080431 Val accuracy 0.7629382303839733\n",
            "\n",
            "Epoch 9/40\n",
            "----------\n",
            "Train loss 0.6672011052288712 Train accuracy 0.8836518834663203\n",
            "Val loss 0.7956325647078062 Val accuracy 0.7545909849749582\n",
            "\n",
            "Epoch 10/40\n",
            "----------\n",
            "Train loss 0.6662578361678194 Train accuracy 0.8848580441640378\n",
            "Val loss 0.7813504181410137 Val accuracy 0.7662771285475793\n",
            "\n",
            "Epoch 11/40\n",
            "----------\n",
            "Train loss 0.6593429921112004 Train accuracy 0.8919094451660791\n",
            "Val loss 0.7966742641047427 Val accuracy 0.7512520868113522\n",
            "\n",
            "Epoch 12/40\n",
            "----------\n",
            "Train loss 0.6603821541682903 Train accuracy 0.8906105028762293\n",
            "Val loss 0.7834197910208451 Val accuracy 0.7646076794657763\n",
            "\n",
            "Epoch 13/40\n",
            "----------\n",
            "Train loss 0.6525126551485203 Train accuracy 0.8984969382074596\n",
            "Val loss 0.7785175489751917 Val accuracy 0.7729549248747913\n",
            "\n",
            "Epoch 14/40\n",
            "----------\n",
            "Train loss 0.6501249846082059 Train accuracy 0.9010020411950269\n",
            "Val loss 0.7741352821651258 Val accuracy 0.7762938230383973\n",
            "\n",
            "Epoch 15/40\n",
            "----------\n",
            "Train loss 0.6490129818725303 Train accuracy 0.902579328261273\n",
            "Val loss 0.7727320413840445 Val accuracy 0.7746243739565943\n",
            "\n",
            "Epoch 16/40\n",
            "----------\n",
            "Train loss 0.6482831587246688 Train accuracy 0.9029504546298014\n",
            "Val loss 0.7720376582522142 Val accuracy 0.7779632721202003\n",
            "\n",
            "Epoch 17/40\n",
            "----------\n",
            "Train loss 0.6447590544421878 Train accuracy 0.9069400630914826\n",
            "Val loss 0.7670798270325911 Val accuracy 0.7829716193656093\n",
            "\n",
            "Epoch 18/40\n",
            "----------\n",
            "Train loss 0.6443664301573699 Train accuracy 0.9067544999072183\n",
            "Val loss 0.7678256301503432 Val accuracy 0.7813021702838063\n",
            "\n",
            "Epoch 19/40\n",
            "----------\n",
            "Train loss 0.6433228279964153 Train accuracy 0.9081462237892002\n",
            "Val loss 0.7661488620858443 Val accuracy 0.7846410684474123\n",
            "\n",
            "Epoch 20/40\n",
            "----------\n",
            "Train loss 0.6397842528735141 Train accuracy 0.911857487474485\n",
            "Val loss 0.7671920845383092 Val accuracy 0.7829716193656093\n",
            "\n",
            "Epoch 21/40\n",
            "----------\n",
            "Train loss 0.640828507325062 Train accuracy 0.9106513267767674\n",
            "Val loss 0.7579171375224465 Val accuracy 0.7929883138564274\n",
            "\n",
            "Epoch 22/40\n",
            "----------\n",
            "Train loss 0.6364584283941931 Train accuracy 0.9150120616069771\n",
            "Val loss 0.7653130543859381 Val accuracy 0.7846410684474123\n",
            "\n",
            "Epoch 23/40\n",
            "----------\n",
            "Train loss 0.6364553122386026 Train accuracy 0.914919280014845\n",
            "Val loss 0.778353833838513 Val accuracy 0.7712854757929883\n",
            "\n",
            "Epoch 24/40\n",
            "----------\n",
            "Train loss 0.6354574531051455 Train accuracy 0.9160326591204304\n",
            "Val loss 0.7675803444887462 Val accuracy 0.7813021702838063\n",
            "\n",
            "Epoch 25/40\n",
            "----------\n",
            "Train loss 0.6324670295333297 Train accuracy 0.9190944516607904\n",
            "Val loss 0.7652592015893835 Val accuracy 0.7846410684474123\n",
            "\n",
            "Epoch 26/40\n",
            "----------\n",
            "Train loss 0.6327744700257786 Train accuracy 0.9185377621079978\n",
            "Val loss 0.7642601744124764 Val accuracy 0.7863105175292154\n",
            "\n",
            "Epoch 27/40\n",
            "----------\n",
            "Train loss 0.6324169121085713 Train accuracy 0.9189088884765262\n",
            "Val loss 0.7696306705474854 Val accuracy 0.7779632721202003\n",
            "\n",
            "Epoch 28/40\n",
            "----------\n",
            "Train loss 0.6301676377167688 Train accuracy 0.9211356466876971\n",
            "Val loss 0.7723657959385922 Val accuracy 0.7762938230383973\n",
            "\n",
            "Epoch 29/40\n",
            "----------\n",
            "Train loss 0.6299358909667776 Train accuracy 0.9214139914640935\n",
            "Val loss 0.7748857752272957 Val accuracy 0.7746243739565943\n",
            "\n",
            "Epoch 30/40\n",
            "----------\n",
            "Train loss 0.6298880686745799 Train accuracy 0.9215067730562256\n",
            "Val loss 0.7759764194488525 Val accuracy 0.7729549248747913\n",
            "\n",
            "Epoch 31/40\n",
            "----------\n",
            "Train loss 0.6289145882830068 Train accuracy 0.922620152161811\n",
            "Val loss 0.7746509831202658 Val accuracy 0.7762938230383973\n",
            "\n",
            "Epoch 32/40\n",
            "----------\n",
            "Train loss 0.6303017260589656 Train accuracy 0.921042865095565\n",
            "Val loss 0.7695266541681791 Val accuracy 0.7813021702838063\n",
            "\n",
            "Epoch 33/40\n",
            "----------\n",
            "Train loss 0.6286003624119462 Train accuracy 0.9228057153460753\n",
            "Val loss 0.7726725794767079 Val accuracy 0.7779632721202003\n",
            "\n",
            "Epoch 34/40\n",
            "----------\n",
            "Train loss 0.6273534639299093 Train accuracy 0.9240118760437929\n",
            "Val loss 0.7701255741872286 Val accuracy 0.7796327212020033\n",
            "\n",
            "Epoch 35/40\n",
            "----------\n",
            "Train loss 0.6267902110910557 Train accuracy 0.9247541287808498\n",
            "Val loss 0.7598559511335272 Val accuracy 0.7896494156928214\n",
            "\n",
            "Epoch 36/40\n",
            "----------\n",
            "Train loss 0.6262455491531497 Train accuracy 0.9252180367415105\n",
            "Val loss 0.7652664796302193 Val accuracy 0.7829716193656093\n",
            "\n",
            "Epoch 37/40\n",
            "----------\n",
            "Train loss 0.6261060430671058 Train accuracy 0.9254035999257747\n",
            "Val loss 0.7566735446453094 Val accuracy 0.7913188647746244\n",
            "\n",
            "Epoch 38/40\n",
            "----------\n",
            "Train loss 0.6251868339426794 Train accuracy 0.9262386342549638\n",
            "Val loss 0.7586595369012732 Val accuracy 0.7913188647746244\n",
            "\n",
            "Epoch 39/40\n",
            "----------\n",
            "Train loss 0.6258662236019836 Train accuracy 0.9255891631100389\n",
            "Val loss 0.7605470858122173 Val accuracy 0.7863105175292154\n",
            "\n",
            "Epoch 40/40\n",
            "----------\n",
            "Train loss 0.6255821853610811 Train accuracy 0.9258675078864352\n",
            "Val loss 0.759651696995685 Val accuracy 0.7913188647746244\n",
            "\n",
            "CPU times: user 1h 27min 15s, sys: 37min 17s, total: 2h 4min 33s\n",
            "Wall time: 2h 5min 24s\n"
          ],
          "name": "stdout"
        }
      ]
    },
    {
      "cell_type": "code",
      "metadata": {
        "id": "9p_HQZpXO_xF",
        "colab_type": "code",
        "colab": {}
      },
      "source": [
        "model = SentimentClassifier(len(class_names))\n",
        "model.load_state_dict(torch.load('model.bin'))\n",
        "model = model.to(device)"
      ],
      "execution_count": 0,
      "outputs": []
    },
    {
      "cell_type": "markdown",
      "metadata": {
        "id": "0E5RcHsARb-U",
        "colab_type": "text"
      },
      "source": [
        "# Evaluation"
      ]
    },
    {
      "cell_type": "code",
      "metadata": {
        "id": "vHFS_SCVRdNC",
        "colab_type": "code",
        "colab": {}
      },
      "source": [
        "def get_reviews(model, data_loader):\n",
        "  model = model.eval()\n",
        "\n",
        "  review_texts = []\n",
        "  predictions = []\n",
        "  prediction_probs = []\n",
        "  real_values = []\n",
        "\n",
        "  with torch.no_grad():\n",
        "    for d in data_loader:\n",
        "      texts = d['review_text']\n",
        "      input_ids = d['input_ids'].to(device)\n",
        "      attention_mask = d['attention_mask'].to(device)\n",
        "      targets = d['targets'].to(device)\n",
        "      outputs = model(\n",
        "          input_ids = input_ids,\n",
        "          attention_mask = attention_mask\n",
        "      )\n",
        "\n",
        "      _, preds = torch.max(outputs, dim = 1)\n",
        "\n",
        "      review_texts.extend(texts)\n",
        "      predictions.extend(preds)\n",
        "      prediction_probs.extend(outputs)\n",
        "      real_values.extend(targets)\n",
        "\n",
        "  predictions = torch.stack(predictions).cpu()\n",
        "  prediction_probs = torch.stack(prediction_probs).cpu()\n",
        "  real_values = torch.stack(real_values).cpu()\n",
        "\n",
        "  return review_texts, predictions, prediction_probs, real_values"
      ],
      "execution_count": 0,
      "outputs": []
    },
    {
      "cell_type": "code",
      "metadata": {
        "id": "pqFXgucaTWuL",
        "colab_type": "code",
        "colab": {}
      },
      "source": [
        "test_acc, test_loss = eval_model(model, test_data_loader, loss_fn, device, len(df_test))"
      ],
      "execution_count": 0,
      "outputs": []
    },
    {
      "cell_type": "code",
      "metadata": {
        "id": "q4fFJMkBTG3B",
        "colab_type": "code",
        "colab": {}
      },
      "source": [
        "y_review_texts, y_pred, y_pred_probs, y_test = get_reviews(model, test_data_loader)"
      ],
      "execution_count": 0,
      "outputs": []
    },
    {
      "cell_type": "code",
      "metadata": {
        "id": "sR40E0t7TzXX",
        "colab_type": "code",
        "outputId": "b074d1f5-ed79-4da7-bf90-2c8982e6a92c",
        "colab": {
          "base_uri": "https://localhost:8080/",
          "height": 187
        }
      },
      "source": [
        "print(classification_report(y_test, y_pred, target_names = class_names))"
      ],
      "execution_count": 38,
      "outputs": [
        {
          "output_type": "stream",
          "text": [
            "              precision    recall  f1-score   support\n",
            "\n",
            "    negative       0.83      0.85      0.84       219\n",
            "     neutral       0.70      0.74      0.72       183\n",
            "    positive       0.87      0.81      0.84       197\n",
            "\n",
            "    accuracy                           0.80       599\n",
            "   macro avg       0.80      0.80      0.80       599\n",
            "weighted avg       0.81      0.80      0.81       599\n",
            "\n"
          ],
          "name": "stdout"
        }
      ]
    },
    {
      "cell_type": "code",
      "metadata": {
        "id": "Vz8ckFLrUASz",
        "colab_type": "code",
        "colab": {}
      },
      "source": [
        "#confusion matrix heatmap\n",
        "def show_confusion_matrix(confusion_matrix):\n",
        "  hmap = sns.heatmap(confusion_matrix, annot = True, fmt = \"d\", cmap = \"Blues\")\n",
        "  hmap.yaxis.set_ticklabels(hmap.yaxis.get_ticklabels(), rotation = 0, ha = \"right\")\n",
        "  hmap.xaxis.set_ticklabels(hmap.xaxis.get_ticklabels(), rotation = 30, ha = \"right\")\n",
        "  plt.ylabel('True Sentiment')\n",
        "  plt.xlabel('Predicted Sentiment')"
      ],
      "execution_count": 0,
      "outputs": []
    },
    {
      "cell_type": "code",
      "metadata": {
        "id": "3x0YPNeYU707",
        "colab_type": "code",
        "outputId": "64cbd029-3f71-4858-c796-e1cf249dd60b",
        "colab": {
          "base_uri": "https://localhost:8080/",
          "height": 534
        }
      },
      "source": [
        "cm = confusion_matrix(y_test, y_pred)\n",
        "df_cm = pd.DataFrame(cm, index = class_names, columns = class_names)\n",
        "show_confusion_matrix(df_cm)"
      ],
      "execution_count": 40,
      "outputs": [
        {
          "output_type": "display_data",
          "data": {
            "image/png": "[encoded data removed]",
            "text/plain": [
              "<Figure size 864x576 with 2 Axes>"
            ]
          },
          "metadata": {
            "tags": []
          }
        }
      ]
    },
    {
      "cell_type": "code",
      "metadata": {
        "id": "2g5BAs0wVYyK",
        "colab_type": "code",
        "colab": {}
      },
      "source": [
        "# check review \n",
        "\n",
        "idx = 3\n",
        "\n",
        "review_text = y_review_texts[idx]\n",
        "true_sentiment = y_test[idx]\n",
        "\n",
        "pred_df = pd.DataFrame(\n",
        "    {\n",
        "        'class_names': class_names,\n",
        "        'values': y_pred_probs[idx]\n",
        "    }\n",
        ")"
      ],
      "execution_count": 0,
      "outputs": []
    },
    {
      "cell_type": "code",
      "metadata": {
        "id": "1egOet4QWSBl",
        "colab_type": "code",
        "outputId": "daed9ef1-dabd-4ae8-9339-a326eae52dc1",
        "colab": {
          "base_uri": "https://localhost:8080/",
          "height": 119
        }
      },
      "source": [
        "print(\"\\n\".join(wrap(review_text)))\n",
        "print()\n",
        "print(f'True Sentiment: {class_names[true_sentiment]}')"
      ],
      "execution_count": 50,
      "outputs": [
        {
          "output_type": "stream",
          "text": [
            "I can't use this app at the moment. Every time I try and do anything\n",
            "the premium ad pops up asking if I want premium. No. I don't! I just\n",
            "want to use it... will uninstall until th next update. Hopefully it\n",
            "fixed itself\n",
            "\n",
            "True Sentiment: negative\n"
          ],
          "name": "stdout"
        }
      ]
    },
    {
      "cell_type": "code",
      "metadata": {
        "id": "Z4qqGF7aWj-R",
        "colab_type": "code",
        "outputId": "a5e4b3bc-f932-4a5a-cbe3-a2dcee963291",
        "colab": {
          "base_uri": "https://localhost:8080/",
          "height": 506
        }
      },
      "source": [
        "sns.barplot(x='values', y='class_names', data = pred_df, orient = 'h')\n",
        "plt.ylabel('sentiment')\n",
        "plt.xlabel('probability')\n",
        "plt.xlim([0,1]);"
      ],
      "execution_count": 51,
      "outputs": [
        {
          "output_type": "display_data",
          "data": {
            "image/png": "[encoded data removed]",
            "text/plain": [
              "<Figure size 864x576 with 1 Axes>"
            ]
          },
          "metadata": {
            "tags": []
          }
        }
      ]
    },
    {
      "cell_type": "markdown",
      "metadata": {
        "id": "LKIPiHpHXH_Z",
        "colab_type": "text"
      },
      "source": [
        "# Sentiment on Raw Text"
      ]
    },
    {
      "cell_type": "code",
      "metadata": {
        "id": "2JY8O11mXLz1",
        "colab_type": "code",
        "colab": {}
      },
      "source": [
        "review_text = 'I love this health tracker. It has made me very active'"
      ],
      "execution_count": 0,
      "outputs": []
    },
    {
      "cell_type": "code",
      "metadata": {
        "id": "iVE1yQz2XUe-",
        "colab_type": "code",
        "colab": {}
      },
      "source": [
        "encoded_review = tokenizer.encode_plus(\n",
        "    review_text,\n",
        "    max_length = MAX_LENGTH,\n",
        "    add_special_tokens= True,\n",
        "    return_token_type_ids = False,\n",
        "    pad_to_max_length = True,\n",
        "    return_attention_mask = True,\n",
        "    return_tensors = 'pt'\n",
        ")"
      ],
      "execution_count": 0,
      "outputs": []
    },
    {
      "cell_type": "code",
      "metadata": {
        "id": "Unx-fwbZXypl",
        "colab_type": "code",
        "colab": {}
      },
      "source": [
        "input_ids = encoded_review['input_ids'].to(device)\n",
        "attention_mask = encoded_review['attention_mask'].to(device)"
      ],
      "execution_count": 0,
      "outputs": []
    },
    {
      "cell_type": "code",
      "metadata": {
        "id": "bqK7jRA2X_mM",
        "colab_type": "code",
        "colab": {}
      },
      "source": [
        "output = model(input_ids, attention_mask)\n",
        "_, prediction = torch.max(output, dim = 1)"
      ],
      "execution_count": 0,
      "outputs": []
    },
    {
      "cell_type": "code",
      "metadata": {
        "id": "DrOxDCYWYK-2",
        "colab_type": "code",
        "outputId": "9ce2fd58-ed84-4370-9033-d232ac9f8b3e",
        "colab": {
          "base_uri": "https://localhost:8080/",
          "height": 51
        }
      },
      "source": [
        "print(f'Review Text: {review_text}')\n",
        "print(f'Sentiment: {class_names[prediction]}')"
      ],
      "execution_count": 56,
      "outputs": [
        {
          "output_type": "stream",
          "text": [
            "Review Text: I love this health tracker. It has made me very active\n",
            "Sentiment: positive\n"
          ],
          "name": "stdout"
        }
      ]
    },
    {
      "cell_type": "code",
      "metadata": {
        "id": "QYOS3gY9gY1i",
        "colab_type": "code",
        "colab": {}
      },
      "source": [
        ""
      ],
      "execution_count": 0,
      "outputs": []
    }
  ]
}